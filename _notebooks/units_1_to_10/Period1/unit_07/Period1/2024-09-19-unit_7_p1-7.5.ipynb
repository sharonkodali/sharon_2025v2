{
 "cells": [
  {
   "cell_type": "raw",
   "metadata": {
    "vscode": {
     "languageId": "raw"
    }
   },
   "source": [
    "---\n",
    "layout: post\n",
    "toc: true\n",
    "title: 7.5 Searching\n",
    "description: ArrayLists Lesson\n",
    "authors: Aidan Lau, Saathvik Gampa, Sri Surapaneni, Tanav Kambhampati\n",
    "categories: [AP CSA]\n",
    "type: ccc\n",
    "permalink: /csa/unit7-p1/unit7-5\n",
    "menu: nav/CSA_Units/csa_unit7_p1.html\n",
    "---"
   ]
  },
  {
   "cell_type": "markdown",
   "metadata": {},
   "source": [
    "# 7.5 Searching\n",
    "\n",
    "### Learning Objectives\n",
    "- Apply sequential/linear search algorithms to search for specific information in array or ``arraylist`` objects\n",
    "\n",
    "### Essential Knowledge:\n",
    "- Sequential/linear search alogorithms check each element in order untill the desired value is found or all elementsin the array or ``arraylist`` have been checked\n",
    "\n",
    "### Search Process\n",
    "- The process of searching a structure incorporates control structures we have used before: iteration and selection AKA a loop with an if inside.\n",
    "\n",
    "- Inside the for loop, we retrieve the value from the structure at the specified index and compare it to the searched value\n",
    "\n",
    "- If it matches we return the index, otherwise we keep looking!"
   ]
  },
  {
   "cell_type": "markdown",
   "metadata": {},
   "source": [
    "### Searching Linear Structures\n",
    "\n",
    "#### Finding information with a computer is something we need to know how to do. Linear search algorithms are BEST used when we do not have any idea about the order of the data and so we need to look at each element to determine if what we are looking for is in fact inside the array or ``ArrayList``.\n",
    "\n",
    "#### When searching, we do need to remember that different data types require comparisons!\n",
    "- When looking at ``int`` values, the == operator is the tool to use!\n",
    "- When searching for a ``double`` value, we need to make sure the value is close enough by doing some math!\n",
    "- ``Object`` instances should always use the ``.equals(otheThing)`` method to check for a match!\n",
    "\n",
    "- When searching a linear structure we need to send it the structure and what we are looking for as parameters Usually, the search method will return the index of the found item or -1 if it is not found. We can also simply return a boolean value if the desired item is located anywhere inside the structure.\n",
    "- A standard for loop with an if block is all we need to search any linear structure. If the item matches the condition, it should return the index immediately so we don't need to continue executing the method. \n",
    "- If the value is not found after completing the loop it can return -1 indicating there is no index with the desired value."
   ]
  },
  {
   "cell_type": "markdown",
   "metadata": {},
   "source": [
    "## Searching an ``ArrayList`` for an integer"
   ]
  },
  {
   "cell_type": "code",
   "execution_count": null,
   "metadata": {
    "vscode": {
     "languageId": "java"
    }
   },
   "outputs": [],
   "source": [
    "import java.util.ArrayList;\n",
    "import java.util.Scanner;\n",
    "\n",
    "public class Main {\n",
    "    public static void main(String[] args) {\n",
    "        ArrayList<Integer> numbers = new ArrayList<Integer>();\n",
    "        numbers.add(1);\n",
    "        numbers.add(2);\n",
    "   \n",
    "        numbers.add(4);\n",
    "        numbers.add(5);\n",
    "       \n",
    "        numbers.add(7);\n",
    "        numbers.add(8);\n",
    "        numbers.add(9);\n",
    "        \n",
    "        \n",
    "        Scanner scanNumber = new Scanner(System.in);\n",
    "        System.out.println(\"Enter a number 1-10\");\n",
    "        Integer desiredNumber = scanNumber.nextInt();\n",
    "        \n",
    "\n",
    "        for (int index = 0; index < numbers.size(); index++ ) {\n",
    "            if (numbers.get(index) == desiredNumber) {\n",
    "\n",
    "                System.out.println(desiredNumber + \" is in the list\");\n",
    "                scanNumber.close();\n",
    "            } else {\n",
    "                System.outprintln(desiredNumber + \" is not in the list.\");\n",
    "                scanNumber.close();\n",
    "            }\n",
    "        }\n",
    "\n",
    "        \n",
    "    }   \n",
    "\n",
    "}"
   ]
  },
  {
   "cell_type": "markdown",
   "metadata": {},
   "source": [
    "### Explanation\n",
    "> Create the `ArrayList` of numbers and then add numbers.\n",
    "> Create a `Scanner` object which asks for user's desired number\n",
    "> Uses a `for` loop to iterate through each number in the `ArrayList` \n",
    "> Conditional `if` statement to check if the user's desired number is in the list"
   ]
  },
  {
   "cell_type": "markdown",
   "metadata": {},
   "source": [
    "## Searching an ``ArrayList`` of video games for a ``String``"
   ]
  },
  {
   "cell_type": "code",
   "execution_count": null,
   "metadata": {
    "vscode": {
     "languageId": "java"
    }
   },
   "outputs": [],
   "source": [
    "import java.util.ArrayList;\n",
    "import java.util.Scanner;\n",
    "\n",
    "public class searchString {\n",
    "    public static void main(String[] args) {\n",
    "        ArrayList<String> videoGames = new ArrayList<String>();\n",
    "        videoGames.add(\"Valorant\");\n",
    "        videoGames.add(\"Fortnite\");\n",
    "        videoGames.add(\"Brawl Stars\");\n",
    "        videoGames.add(\"Apex Legends\");\n",
    "        videoGames.add(\"CS-GO\");\n",
    "        videoGames.add(\"Rust\");\n",
    "        \n",
    "        Scanner scanGame = new Scanner(System.in);\n",
    "        System.out.println(\"Enter your favorite video game: \");\n",
    "        String desiredGame = scanGame.nextLine();\n",
    "\n",
    "\n",
    "        for (String game: videoGames) {\n",
    "            if (game.equalsIgnoreCase(desiredGame)) {\n",
    "                System.out.println(desiredGame + \"is in the list.\");\n",
    "                scanGame.close();\n",
    "            } else {\n",
    "                System.out.println(desiredGame + \"is not in the list.\");\n",
    "                scanGame.close();\n",
    "            }\n",
    "        }\n",
    "\n",
    "    }\n",
    "\n",
    "}"
   ]
  },
  {
   "cell_type": "markdown",
   "metadata": {},
   "source": [
    "### Explanation\n",
    "> Create the `ArrayList` of videoGames and then add items.\n",
    "> Create a `Scanner` object which asks for user's desired number\n",
    "> Uses a `for` loop to iterate through each game in the `ArrayList` \n",
    "> Conditional `if` statement to check if the user's favorite game is in the list"
   ]
  },
  {
   "cell_type": "markdown",
   "metadata": {},
   "source": [
    "## Popcorn Hack\n",
    "\n",
    "#### How do you add an element to an ArrayList?\n",
    "> list.add(element)\n",
    "\n",
    "#### How do you retrieve an element from an ArrayList at a specific index?\n",
    "> list.contains(element)\n",
    "\n",
    "- These are all methods unique to ArrayLists"
   ]
  },
  {
   "cell_type": "markdown",
   "metadata": {},
   "source": [
    "## Why does order sometimes matter?\n",
    "\n",
    "#### When searching for a value to remove from a list, if we search forward we have to make sure to adjust the loop control variable, or we might skip what we are looking for when removing!"
   ]
  }
 ],
 "metadata": {
  "language_info": {
   "name": "python"
  }
 },
 "nbformat": 4,
 "nbformat_minor": 2
}
