{
 "cells": [
  {
   "cell_type": "raw",
   "metadata": {
    "vscode": {
     "languageId": "raw"
    }
   },
   "source": [
    "---\n",
    "layout: post\n",
    "toc: true\n",
    "title: 7.4 - Developing Algorithms Using ArrayLists\n",
    "description: ArrayLists Lesson\n",
    "authors: Aidan Lau, Saathvik Gampa, Sri Surapaneni, Tanav Kambhampati\n",
    "categories: [AP CSA]\n",
    "type: ccc\n",
    "permalink: /csa/unit7-p1/unit7-4\n",
    "menu: nav/CSA_Units/csa_unit7_p1.html\n",
    "---"
   ]
  },
  {
   "cell_type": "markdown",
   "metadata": {},
   "source": [
    "# 7.4: Developing Algorithms Using ArrayLists"
   ]
  },
  {
   "cell_type": "markdown",
   "metadata": {},
   "source": [
    "### Learning Objectives\n",
    "\n",
    "In the context of `ArrayList` objects, this module aims to teach the following skills:\n",
    "\n",
    "a. Iterating through `ArrayLists` using `for` or `while` loops.\n",
    "\n",
    "b. Iterating through `ArrayLists` using enhanced `for` loops.\n",
    "\n",
    "In the realm of algorithms, within the context of specific requirements that demand the utilization of `ArrayList` traversals, students will be able to:\n",
    "\n",
    "- Recognize established algorithms.\n",
    "- Customize existing algorithms.\n",
    "- Create new algorithms.\n",
    "\n",
    "### Essential Knowledge\n",
    "\n",
    "- Iteration statements provide a means to access all the elements stored within an `ArrayList`. This process is referred to as \"traversing the `ArrayList`.\"\n",
    "\n",
    "- The following methods related to `ArrayLists`, their functions, and appropriate use are covered in the Java Quick Reference:\n",
    "\n",
    "    * `int size()` - Returns the count of elements within the list.\n",
    "    * `boolean add(E obj)` - Appends the object `obj` to the end of the list and returns `true`.\n",
    "    * `void add(int index, E obj)` - Inserts `obj` at the specified `index`, shifting elements at and above that position to the right (incrementing their indices by 1) and increasing the list's size by 1.\n",
    "    * `E get(int index)` - Retrieves the element at the given `index` in the list.\n",
    "    * `E set(int index, E obj)` - Replaces the element at the specified `index` with `obj` and returns the previous element at that index.\n",
    "    * `E remove(int index)` - Deletes the element at the specified `index`, shifting all subsequent elements one index to the left, reducing the list's size by one, and returning the removed element.\n",
    "\n",
    "- There exist established algorithms for `ArrayLists` that make use of traversals to:\n",
    "\n",
    "    * Insert elements.\n",
    "    * Remove elements.\n",
    "    * Apply the same algorithms commonly used with 1D arrays."
   ]
  },
  {
   "cell_type": "markdown",
   "metadata": {},
   "source": [
    "## Popcorn Hacks:\n",
    "\n",
    "Before you uncomment the code and run it, guess what the code will do based on what you've learned."
   ]
  },
  {
   "cell_type": "markdown",
   "metadata": {},
   "source": [
    "### Let's Look at an Example (Example 1)"
   ]
  },
  {
   "cell_type": "code",
   "execution_count": null,
   "metadata": {
    "vscode": {
     "languageId": "java"
    }
   },
   "outputs": [],
   "source": [
    "public class ArrayListExample {\n",
    "    private double findMax(double[] values) {\n",
    "        // double max = values[0];\n",
    "    \n",
    "        //for (int index = 1; index < values.length; index++) {\n",
    "        //    if (values[index] > max) {\n",
    "        //        max = values[index];\n",
    "        //    }\n",
    "        //}\n",
    "    \n",
    "        // return max;\n",
    "    }\n",
    "    \n",
    "    public static void main(String[] args) {\n",
    "        double[] nums = {1.0, 3.0, 2.0, 2.0, 1.0, 69.0, 2.0, 4.0, 6.0, 2.0, 5.0, 10.0};\n",
    "        ArrayListExample example = new ArrayListExample();\n",
    "        double max = example.findMax(nums);\n",
    "        System.out.println(\"Maximum value: \" + max);\n",
    "    }\n",
    "}\n",
    "\n",
    "ArrayListExample.main(null);"
   ]
  },
  {
   "cell_type": "markdown",
   "metadata": {},
   "source": [
    "Take a closer look at the `findMax()` method. It takes in a list of doubles as parameters. It will then use a `for` loop to find the maximum value in the list. Now, using what we know, can we replace the list of doubles with an ArrayList of Doubles? We sure can! Take a look at how we can use ArrayList to do just that:"
   ]
  },
  {
   "cell_type": "code",
   "execution_count": null,
   "metadata": {
    "vscode": {
     "languageId": "java"
    }
   },
   "outputs": [],
   "source": [
    "public class ArrayListExample {\n",
    "    private double findMax(ArrayList<Double> values) {\n",
    "        // double max = values.get(0);\n",
    "    \n",
    "        //for (int index = 1; index < values.size(); index++) {\n",
    "        //    if (values.get(index) > max) {\n",
    "        //        max = values.get(index);\n",
    "        //    }\n",
    "        //}\n",
    "    \n",
    "        //return max;\n",
    "    }\n",
    "    \n",
    "    public static void main(String[] args) {\n",
    "        ArrayList<Double> nums = new ArrayList<>();\n",
    "        nums.add(1.0);\n",
    "        nums.add(3.0);\n",
    "        nums.add(2.0);\n",
    "        nums.add(2.0);\n",
    "        nums.add(1.0);\n",
    "        nums.add(69.0);\n",
    "        nums.add(2.0);\n",
    "        nums.add(4.0);\n",
    "        nums.add(6.0);\n",
    "        nums.add(2.0);\n",
    "        nums.add(5.0);\n",
    "        nums.add(10.0);\n",
    "        \n",
    "        ArrayListExample example = new ArrayListExample();\n",
    "        double max = example.findMax(nums);\n",
    "        System.out.println(\"Maximum value: \" + max);\n",
    "    }\n",
    "}\n",
    "\n",
    "ArrayListExample.main(null);"
   ]
  },
  {
   "cell_type": "markdown",
   "metadata": {},
   "source": [
    "### Let's Look at an Example (Example 2)\n",
    "\n",
    "Take a look at this code:"
   ]
  },
  {
   "cell_type": "code",
   "execution_count": null,
   "metadata": {
    "vscode": {
     "languageId": "java"
    }
   },
   "outputs": [],
   "source": [
    "public class ArrayListExample {\n",
    "    private int findMin(int[] values) {\n",
    "        //int min = Integer.MAX_VALUE;\n",
    "        //for (int currentValue : values) {\n",
    "        //    if (currentValue < min) {\n",
    "        //        min = currentValue;\n",
    "        //    }\n",
    "        //}\n",
    "        return min;\n",
    "    }\n",
    "\n",
    "    public static void main(String[] args) {\n",
    "        int[] nums = {420, 703, 2034, 582, 1047, 4545};\n",
    "        ArrayListExample example = new ArrayListExample();\n",
    "        int min = example.findMin(nums);\n",
    "        System.out.println(\"Minimum value: \" + min);\n",
    "    }\n",
    "}\n",
    "\n",
    "ArrayListExample.main(null);"
   ]
  },
  {
   "cell_type": "markdown",
   "metadata": {},
   "source": [
    "Now, can we use ArrayLists to make this code better? We sure can! Take a look at the new and improved code that uses ArrayLists:"
   ]
  },
  {
   "cell_type": "markdown",
   "metadata": {},
   "source": [
    "public class ArrayListExample {\n",
    "    private int findMin(ArrayList<Integer> values) {\n",
    "        //int min = Integer.MAX_VALUE;\n",
    "        //for (int currentValue : values) {\n",
    "        //    if (currentValue < min) {\n",
    "        //        min = currentValue;\n",
    "        //    }\n",
    "        //}\n",
    "        return min;\n",
    "    }\n",
    "\n",
    "    public static void main(String[] args) {\n",
    "        ArrayList<Integer> nums = new ArrayList<>();\n",
    "        nums.add(420);\n",
    "        nums.add(703);\n",
    "        nums.add(2034);\n",
    "        nums.add(582);\n",
    "        nums.add(1047);\n",
    "        nums.add(4545);\n",
    "        ArrayListExample example = new ArrayListExample();\n",
    "        int min = example.findMin(nums);\n",
    "        System.out.println(\"Minimum value: \" + min);\n",
    "    }\n",
    "}\n",
    "\n",
    "ArrayListExample.main(null);"
   ]
  },
  {
   "cell_type": "markdown",
   "metadata": {},
   "source": [
    "### Hacks\n",
    "\n",
    "- Answer the questions: \n",
    "    * Look back at the examples. What's similar? What's different?\n",
    "    * Why do we use `ArrayList`? Why not just regular lists?\n",
    "- Demonstrate at least two `ArrayList` methods that aren't `ArrayList<>.size()` and `ArrayList<>.get()`.\n",
    "- Write the method `findSum()` using the Hack Helper and incorporating `ArrayList`."
   ]
  },
  {
   "cell_type": "markdown",
   "metadata": {},
   "source": [
    "### Hack Helper"
   ]
  },
  {
   "cell_type": "code",
   "execution_count": null,
   "metadata": {
    "vscode": {
     "languageId": "java"
    }
   },
   "outputs": [],
   "source": [
    "public class ArrayListHacks {\n",
    "    private int findSum(ArrayList<Integer> values) {\n",
    "        // Your code here\n",
    "        return 0;\n",
    "    }\n",
    "\n",
    "    public static void main(String[] args) {\n",
    "        ArrayList<Integer> nums = new ArrayList<>();\n",
    "        nums.add(0);\n",
    "        nums.add(1);\n",
    "        nums.add(2);\n",
    "        nums.add(3);\n",
    "        nums.add(5);\n",
    "        nums.add(8);\n",
    "\n",
    "        ArrayListHacks hacks = new ArrayListHacks();\n",
    "        hacks.findSum(nums);\n",
    "    }\n",
    "}\n",
    "\n",
    "ArrayListHacks.main(null);"
   ]
  }
 ],
 "metadata": {
  "language_info": {
   "name": "python"
  }
 },
 "nbformat": 4,
 "nbformat_minor": 2
}
