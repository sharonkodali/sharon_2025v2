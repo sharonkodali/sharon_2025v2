{
 "cells": [
  {
   "cell_type": "raw",
   "metadata": {
    "vscode": {
     "languageId": "raw"
    }
   },
   "source": [
    "---\n",
    "layout: post\n",
    "toc: true\n",
    "title: 7.6 Sorting\n",
    "description: ArrayLists Lesson\n",
    "authors: Aidan Lau, Saathvik Gampa, Sri Surapaneni, Tanav Kambhampati\n",
    "categories: [AP CSA]\n",
    "type: ccc\n",
    "permalink: /csa/unit7-p1/unit7-6\n",
    "menu: nav/CSA_Units/csa_unit7_p1.html\n",
    "---"
   ]
  },
  {
   "cell_type": "markdown",
   "metadata": {},
   "source": [
    "# 7.6 Sorting\n",
    "\n",
    "### Learning Objectives\n",
    "- Apply selection sort and insertion sort algorithms to sort the elements of array or ``ArrayList`` objects.\n",
    "\n",
    "### Essential Knowledge:\n",
    "- Selection sort and insertion sort are iterative sorting algorithms that can be used to sort elements in an array or ``ArrayList``.\n",
    "\n",
    "> Two of the following sorting algorithms will be on the AP exam.(merge sort is discussed in Unit 10)\n",
    "- <mark>Selection sort</mark>: Look for the smallest element, swap with first element. Look for the second smallest, swap with second element, etc…\n",
    "- <mark>Insertion sort</mark>: Build an increasingly large sorted front portion of array.\n"
   ]
  },
  {
   "cell_type": "markdown",
   "metadata": {},
   "source": [
    "<h2 style=\"color: ##FF5733\">Selection Sort</h2>\n",
    "\n",
    "> <mark>Process</mark>: Orders a list of values by repeatedly putting the smallest or largest unplaced value into its final position.\n",
    "- Look through the list to find the smallest value.\n",
    "- Swap it so that it is at index 0.\n",
    "- Look through the list to find the second-smallest value.\n",
    "- Swap it so that it is at index 1.\n",
    "- ...\n",
    "- Repeat until all values are in their proper places.\n",
    "\n",
    "\n",
    "\n",
    "### Code Implementation:"
   ]
  },
  {
   "cell_type": "code",
   "execution_count": null,
   "metadata": {
    "vscode": {
     "languageId": "java"
    }
   },
   "outputs": [],
   "source": [
    "import java.util.ArrayList;\n",
    "\n",
    "public class SelectionSortExample {\n",
    "    public static void main(String[] args) {\n",
    "        ArrayList<Integer> numbers = new ArrayList<>();\n",
    "        numbers.add(64);\n",
    "        numbers.add(25);\n",
    "        numbers.add(12);\n",
    "        numbers.add(22);\n",
    "        numbers.add(11);\n",
    "        \n",
    "        selectionSort(numbers);\n",
    "        \n",
    "        System.out.println(\"Sorted ArrayList: \" + numbers);\n",
    "    }\n",
    "\n",
    "    public static void selectionSort(ArrayList<Integer> list) {\n",
    "        int size = list.size();\n",
    "        \n",
    "        for (int i = 0; i < size - 1; i++) {\n",
    "            int minIndex = i;\n",
    "            for (int j = i + 1; j < size; j++) {\n",
    "                if (list.get(j) < list.get(minIndex)) {\n",
    "                    minIndex = j;\n",
    "                }\n",
    "            }\n",
    "\n",
    "            int temp = list.get(minIndex);\n",
    "            list.set(minIndex, list.get(i));\n",
    "            list.set(i, temp);\n",
    "        }\n",
    "    }\n",
    "}\n"
   ]
  },
  {
   "cell_type": "markdown",
   "metadata": {},
   "source": [
    "<h2 style=\"color: ##FF5733\">Insertion Sort</h2>\n",
    "\n",
    "> <mark>Process</mark>: Shift each element into a sorted sub-array.\n",
    "- To sort a list of n elements.\n",
    "    - Loop through indices i from 1 to n – 1:\n",
    "        - For each value at position i, insert into correct position in the sorted list from index 0 to i – 1.\n",
    "\n",
    "\n",
    "\n",
    "### Example:\n",
    "\n",
    "\n",
    "\n",
    "\n",
    "### Code Implementation:"
   ]
  },
  {
   "cell_type": "code",
   "execution_count": null,
   "metadata": {
    "vscode": {
     "languageId": "java"
    }
   },
   "outputs": [],
   "source": [
    "import java.util.ArrayList;\n",
    "\n",
    "public class InsertionSortExample {\n",
    "    public static void main(String[] args) {\n",
    "    \n",
    "        ArrayList<Integer> numbers = new ArrayList<>();\n",
    "        numbers.add(64);\n",
    "        numbers.add(25);\n",
    "        numbers.add(12);\n",
    "        numbers.add(22);\n",
    "        numbers.add(11);\n",
    "        \n",
    "   \n",
    "        insertionSort(numbers);\n",
    "        \n",
    "\n",
    "        System.out.println(\"Sorted ArrayList: \" + numbers);\n",
    "    }\n",
    "\n",
    "    public static void insertionSort(ArrayList<Integer> list) {\n",
    "        int size = list.size();\n",
    "      \n",
    "        for (int i = 1; i < size; i++) {\n",
    "            int key = list.get(i);\n",
    "            int j = i - 1;\n",
    "            \n",
    "            while (j >= 0 && list.get(j) > key) {\n",
    "                list.set(j + 1, list.get(j));\n",
    "                j--;\n",
    "            }\n",
    "            \n",
    "            list.set(j + 1, key);\n",
    "        }\n",
    "    }\n",
    "}\n"
   ]
  },
  {
   "cell_type": "markdown",
   "metadata": {},
   "source": [
    "### Extra Sorting Algorithm\n",
    "\n",
    "<h2 style=\"color: ##FF5733\">Bubble Sort</h2>\n",
    "\n",
    "> <mark>Process</mark>: Repeatedly swap adjacent elements if they are in the wrong order\n",
    "- Traverse from left and compare adjacent elements and the higher one is placed at right side. \n",
    "- In this way, the largest element is moved to the rightmost end at first. \n",
    "- This process is then continued to find the second largest and place it and so on until the data is sorted.\n",
    "\n",
    "### Example:"
   ]
  },
  {
   "cell_type": "code",
   "execution_count": null,
   "metadata": {
    "vscode": {
     "languageId": "java"
    }
   },
   "outputs": [],
   "source": [
    "import java.util.ArrayList;\n",
    "import java.util.Collections;\n",
    "\n",
    "public class BubbleSortArrayList {\n",
    "    public static void main(String[] args) {\n",
    "        ArrayList<Integer> numbers = new ArrayList<Integer>();\n",
    "        numbers.add(64);\n",
    "        numbers.add(34);\n",
    "        numbers.add(25);\n",
    "        numbers.add(12);\n",
    "        numbers.add(22);\n",
    "        numbers.add(11);\n",
    "        numbers.add(90);\n",
    "\n",
    "        System.out.println(\"Unsorted ArrayList:\");\n",
    "        System.out.println(list);\n",
    "\n",
    "        bubbleSort(list);\n",
    "\n",
    "        System.out.println(\"Sorted ArrayList:\");\n",
    "        System.out.println(list);\n",
    "    }\n",
    "}\n",
    "\n",
    "public static void BubbleSort(ArrayList<Integer> numbers) {\n",
    "    int n = numbers.size();\n",
    "    for (int i = 0; i < n - 1; i++) {\n",
    "        for(int j = 0; j < n - i - 1; j++) {\n",
    "            if (numbers.get(j) > numbers.get(j + 1)) {\n",
    "                Collections.swap(numbers, j, j+1);\n",
    "            }\n",
    "        }\n",
    "    }\n",
    "}"
   ]
  },
  {
   "cell_type": "markdown",
   "metadata": {},
   "source": [
    "### Notes: \n",
    "\n",
    "> Some confusing things you may notice is the n-1, n - i - 1, and j + 1\n",
    "\n",
    "- \"n-1\" : After the first iteration of the ArrayList, the largest number will be placed at the end of the list so you dont need to compare all the items in the list(The outer loop runs n-1 times because after n-1 passes, the array is fully sorted)\n",
    "- \"n - i - 1\" : The inner loop shrinks each time because the largest elements \"bubble\" to the end of the list, and they don't need to be checked again.\n",
    "- \"j + 1\" : This allows adjacent elements to be compared"
   ]
  },
  {
   "cell_type": "markdown",
   "metadata": {},
   "source": [
    "## Popcorn Hack\n",
    "\n",
    "#### Why do we always see \"for (int i = 1; i < size; i++)\"\n",
    "> It is the classic syntax for a for loop which loops through all elements in an ArrayList\n",
    "\n",
    "#### In a bubble sort, why do we add 1 to the j index?\n",
    "> To compare adjacent elements\n"
   ]
  }
 ],
 "metadata": {
  "language_info": {
   "name": "python"
  }
 },
 "nbformat": 4,
 "nbformat_minor": 2
}
