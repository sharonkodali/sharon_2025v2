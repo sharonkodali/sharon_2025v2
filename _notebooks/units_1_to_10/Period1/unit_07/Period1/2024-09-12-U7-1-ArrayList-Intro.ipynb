{
 "cells": [
  {
   "cell_type": "raw",
   "metadata": {
    "vscode": {
     "languageId": "raw"
    }
   },
   "source": [
    "---\n",
    "layout: post\n",
    "toc: true\n",
    "title: Unit 7 ArrayLists P1 \n",
    "description: ArrayLists Lesson\n",
    "authors: Aidan Lau, Saathvik Gampa, Sri Surapaneni, Tanav Kambhampati\n",
    "categories: [AP CSA]\n",
    "courses: {'csa': {'week': 6}}\n",
    "type: ccc\n",
    "permalink: /csa/unit7-p1/unit7-1\n",
    "menu: nav/CSA_Units/csa_unit7_p1.html\n",
    "---"
   ]
  },
  {
   "cell_type": "markdown",
   "metadata": {},
   "source": [
    "## 7.1: ArrayList Intro"
   ]
  },
  {
   "cell_type": "markdown",
   "metadata": {},
   "source": [
    "- ArrayLists are dynamic, meaning their size can grow or shrink as needed, but arrays are static in size\n",
    "- Instead of creating a different size array each time, while painstakingly copying the data from the initial array to the new one, we can use ArrayLists!\n",
    "Ex: You and ur beautiful wife have 8 kids and your house has 8 bedrooms...\n",
    "![Screenshot 2024-09-18 at 8 05 02 PM](https://github.com/user-attachments/assets/480349f7-a97f-4c3d-a6f6-1868e095a2f4)\n",
    "\n",
    "\n"
   ]
  },
  {
   "cell_type": "markdown",
   "metadata": {},
   "source": [
    "In order to use the ArrayList class, it needs to be imported from the java util package. This can be done by writing import java.util.ArrayList; at the beginning of the code"
   ]
  },
  {
   "cell_type": "markdown",
   "metadata": {},
   "source": [
    "import java.util.ArrayList;\n",
    "\n",
    "<code here using ArrayLists>"
   ]
  },
  {
   "cell_type": "markdown",
   "metadata": {},
   "source": [
    "ArrayList objects are initialized the same way as most object classes. However, the element type (String, Integer, Boolean) must be specified in the <>. Look at the example below, where the element type is String in this case."
   ]
  },
  {
   "cell_type": "code",
   "execution_count": null,
   "metadata": {
    "vscode": {
     "languageId": "java"
    }
   },
   "outputs": [],
   "source": [
    "ArrayList<String> list = new ArrayList<String>();"
   ]
  },
  {
   "cell_type": "markdown",
   "metadata": {},
   "source": [
    "ArrayLists can be created without specifying a type, allowing them to hold any object type. However, its better to define the type because it allows the compiler to catch errors at compile time whcich makes the code more efficient and easier to debug. Example is below\n"
   ]
  },
  {
   "cell_type": "code",
   "execution_count": null,
   "metadata": {
    "vscode": {
     "languageId": "java"
    }
   },
   "outputs": [],
   "source": [
    "ArrayList list = new ArrayList();"
   ]
  },
  {
   "cell_type": "markdown",
   "metadata": {},
   "source": [
    "#### Popcorn Hack #1\n",
    "\n",
    "Create 2 ArrayLists, 1 called `studentName` and 1 called `studentAge`"
   ]
  },
  {
   "cell_type": "code",
   "execution_count": null,
   "metadata": {
    "vscode": {
     "languageId": "java"
    }
   },
   "outputs": [],
   "source": [
    "import java.util.ArrayList;\n",
    "\n",
    "public class ProductCatalog {\n",
    "\n",
    "    public static void main(String[] args) {\n",
    "        // what should go in the place of the question marks?\n",
    "        List<?> productNames = new ArrayList<>(); \n",
    "        List<?> productPrices = new ArrayList<>();\n",
    "    }\n",
    "}\n"
   ]
  }
 ],
 "metadata": {
  "language_info": {
   "name": "python"
  }
 },
 "nbformat": 4,
 "nbformat_minor": 2
}
