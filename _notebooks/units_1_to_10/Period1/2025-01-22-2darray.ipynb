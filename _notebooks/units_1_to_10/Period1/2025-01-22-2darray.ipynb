{
 "cells": [
  {
   "cell_type": "markdown",
   "metadata": {},
   "source": [
    "---\n",
    "layout: post\n",
    "toc: true\n",
    "title: 2D array hw \n",
    "description: 2D arrays pt 2 hw \n",
    "authors: Sharon Kodali\n",
    "categories: [AP CSA]\n",
    "type: ccc\n",
    "permalink: /2darrayhw\n",
    "menu: nav/CSA_Units/csa_unit8_p1.html\n",
    "---"
   ]
  },
  {
   "cell_type": "markdown",
   "metadata": {},
   "source": [
    "# First try "
   ]
  },
  {
   "cell_type": "code",
   "execution_count": null,
   "metadata": {
    "vscode": {
     "languageId": "java"
    }
   },
   "outputs": [],
   "source": [
    "public void repopulate() {\n",
    "    for (int row = 0; row <= grid.length; row++) {\n",
    "        for (int col = 0; col <= grid[0].length; col++) {\n",
    "            int rval = (int)(Math.random() * MAX);\n",
    "            while (rval % 10 == 0 && rval % 100 != 0) {\n",
    "                rval = (int)(Math.random() * MAX);\n",
    "            }\n",
    "            grid[row][col] = rval;\n",
    "        }\n",
    "    }\n",
    "}\n",
    "\n",
    "public int countIncreasingCols() {\n",
    "    int count = 0;\n",
    "\n",
    "    for (int col = 0; col < grid[0].length; col++) {\n",
    "        boolean ordered = true;\n",
    "\n",
    "        for (int row = 1; row < grid[0].length; row++) {\n",
    "            if (grid[row][col] <= grid[row - 1][col]) {\n",
    "                ordered = true;\n",
    "            }\n",
    "        }\n",
    "\n",
    "        if (!ordered) {\n",
    "            count++;\n",
    "        }\n",
    "    }\n",
    "\n",
    "    return count;\n",
    "}\n"
   ]
  },
  {
   "cell_type": "markdown",
   "metadata": {},
   "source": [
    "\n",
    "\n",
    "### Explanation of Errors:\n",
    "1. **Repopulate Method:**\n",
    "   - The loop condition uses `<=` instead of `<`, causing potential `IndexOutOfBoundsException`.\n",
    "   - The `rval` assignment logic is flawed. It omits `+1`, meaning `MAX` is never included.\n",
    "   - The `while` condition is incorrect: It should require `rval % 10 != 0 || rval % 100 == 0`, but it uses the opposite logic.\n",
    "\n",
    "2. **CountIncreasingCols Method:**\n",
    "   - The inner loop incorrectly uses `grid[0].length` for the row limit instead of `grid.length`.\n",
    "   - The condition `<=` should be `<` to check for strictly increasing values.\n",
    "   - Setting `ordered` to `true` inside the condition is a logical mistake—it should be `false` when the column is not strictly increasing.\n",
    "   - The `if` condition for updating `count` is inverted. `count` should increment when `ordered` is `true`, but here it increments when `ordered` is `false`."
   ]
  },
  {
   "cell_type": "markdown",
   "metadata": {},
   "source": [
    "# 2nd try with scoring guidelines and comments "
   ]
  },
  {
   "cell_type": "code",
   "execution_count": null,
   "metadata": {
    "vscode": {
     "languageId": "java"
    }
   },
   "outputs": [],
   "source": [
    "public void repopulate() {\n",
    "    // Iterate through the rows of the grid\n",
    "    for (int row = 0; row < grid.length; row++) { \n",
    "        // Fixed: Used '<' instead of '<=' to prevent IndexOutOfBoundsException\n",
    "        for (int col = 0; col < grid[0].length; col++) {\n",
    "            // Generate a random value in the range [1, MAX]\n",
    "            int rval = (int)(Math.random() * MAX) + 1; \n",
    "            // Fixed: Added '+1' to ensure MAX is included\n",
    "            while (rval % 10 != 0 || rval % 100 == 0) { \n",
    "                // Fixed: Corrected the condition to ensure rval ends in 0 but not 00\n",
    "                rval = (int)(Math.random() * MAX) + 1;\n",
    "                // Fixed: Added '+1' again here\n",
    "            }\n",
    "            grid[row][col] = rval;\n",
    "        }\n",
    "    }\n",
    "}\n",
    "\n",
    "public int countIncreasingCols() {\n",
    "    int count = 0;\n",
    "\n",
    "    // Iterate through each column\n",
    "    for (int col = 0; col < grid[0].length; col++) {\n",
    "        boolean ordered = true; // Assume the column is ordered\n",
    "\n",
    "        // Iterate through the rows in the column\n",
    "        for (int row = 1; row < grid.length; row++) { \n",
    "            // Fixed: Changed loop range to row < grid.length to avoid out-of-bounds error\n",
    "            if (grid[row][col] < grid[row - 1][col]) {\n",
    "                ordered = false; // Fixed: Set ordered to false if column is not strictly increasing\n",
    "            }\n",
    "        }\n",
    "\n",
    "        if (ordered) { \n",
    "            count++; // Fixed: Increment count only when column is strictly increasing\n",
    "        }\n",
    "    }\n",
    "\n",
    "    return count;\n",
    "}\n"
   ]
  }
 ],
 "metadata": {
  "language_info": {
   "name": "python"
  },
  "orig_nbformat": 4
 },
 "nbformat": 4,
 "nbformat_minor": 2
}
