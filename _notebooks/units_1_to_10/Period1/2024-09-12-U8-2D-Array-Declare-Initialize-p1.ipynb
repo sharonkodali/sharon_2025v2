{
 "cells": [
  {
   "cell_type": "raw",
   "metadata": {
    "vscode": {
     "languageId": "raw"
    }
   },
   "source": [
    "---\n",
    "layout: post\n",
    "toc: true\n",
    "title: Unit 8 - 2D Arrays Declaring and Initializing - P1\n",
    "description: 2D Arrays Lesson\n",
    "authors: Anusha Khobare\n",
    "categories: [AP CSA]\n",
    "type: ccc\n",
    "permalink: /unit8lesson-p1-declare-initialize\n",
    "menu: nav/CSA_Units/csa_unit8_p1.html\n",
    "---"
   ]
  },
  {
   "cell_type": "markdown",
   "metadata": {},
   "source": [
    "## How to declare/initialize 2D arrays\n",
    "1) Initializing and populating the array in one go:"
   ]
  },
  {
   "cell_type": "code",
   "execution_count": null,
   "metadata": {
    "vscode": {
     "languageId": "java"
    }
   },
   "outputs": [],
   "source": [
    "public class Main {\n",
    "    public static void main(String[] args) {\n",
    "        int[][] intArray = {  // 2D array of integers\n",
    "            {1, 2, 3},\n",
    "            {4, 5, 6},\n",
    "            {7, 8, 9}\n",
    "        };\n",
    "\n",
    "        // Loop through the array and print its elements\n",
    "        for (int i = 0; i < intArray.length; i++) {  // Iterate over rows\n",
    "            for (int j = 0; j < intArray[i].length; j++) {  // Iterate over columns\n",
    "                System.out.print(intArray[i][j] + \" \");  // Print each element\n",
    "            }\n",
    "            System.out.println();  // Move to the next line after each row\n",
    "        }\n",
    "    }\n",
    "}"
   ]
  },
  {
   "cell_type": "markdown",
   "metadata": {},
   "source": [
    "2) Creating an empty 2D array and assigning values individually (by indexes)"
   ]
  },
  {
   "cell_type": "code",
   "execution_count": null,
   "metadata": {
    "vscode": {
     "languageId": "java"
    }
   },
   "outputs": [],
   "source": [
    "public class Main {\n",
    "    public static void main(String[] args) {\n",
    "        String[][] stringArray = new String[2][3];  // 2D array with 2 rows and 3 columns\n",
    "\n",
    "        // Assign values to the array manually\n",
    "        stringArray[0][0] = \"Apple\";\n",
    "        stringArray[0][1] = \"Banana\";\n",
    "        stringArray[0][2] = \"Cherry\";\n",
    "        stringArray[1][0] = \"Date\";\n",
    "        stringArray[1][1] = \"Elderberry\";\n",
    "        stringArray[1][2] = \"Fig\";\n",
    "\n",
    "        // Loop through and print the array's elements\n",
    "        for (int i = 0; i < stringArray.length; i++) {  // Iterate over rows\n",
    "            for (int j = 0; j < stringArray[i].length; j++) {  // Iterate over columns\n",
    "                System.out.print(stringArray[i][j] + \" \");  // Print each element\n",
    "            }\n",
    "            System.out.println();  // New line after each row\n",
    "        }\n",
    "    }\n",
    "}\n"
   ]
  },
  {
   "cell_type": "markdown",
   "metadata": {},
   "source": [
    "3) Using a nested loop to populate the array dynamically:"
   ]
  },
  {
   "cell_type": "code",
   "execution_count": null,
   "metadata": {
    "vscode": {
     "languageId": "java"
    }
   },
   "outputs": [],
   "source": [
    "public class Main {\n",
    "    public static void main(String[] args) {\n",
    "        int rows = 4;\n",
    "        int columns = 2;\n",
    "        double[][] doubleArray = new double[rows][columns];  // 2D array of doubles (4 rows, 2 columns)\n",
    "\n",
    "        // Nested loop to populate the array with computed values\n",
    "        for (int i = 0; i < rows; i++) {\n",
    "            for (int j = 0; j < columns; j++) {\n",
    "                doubleArray[i][j] = i * 0.5 + j * 0.1;  // Example formula for dynamic values\n",
    "            }\n",
    "        }\n",
    "\n",
    "        // Loop through and print the array\n",
    "        for (int i = 0; i < doubleArray.length; i++) {\n",
    "            for (int j = 0; j < doubleArray[i].length; j++) {\n",
    "                System.out.print(doubleArray[i][j] + \" \");\n",
    "            }\n",
    "            System.out.println();  // New line after each row\n",
    "        }\n",
    "    }\n",
    "}\n"
   ]
  },
  {
   "cell_type": "markdown",
   "metadata": {},
   "source": [
    "### Popcorn Hack: Create a Mixed Data (Object) 2D array using nested for-loops "
   ]
  },
  {
   "cell_type": "code",
   "execution_count": null,
   "metadata": {
    "vscode": {
     "languageId": "java"
    }
   },
   "outputs": [],
   "source": [
    "public class MixedDataArray {\n",
    "    public static void main(String[] args) {\n",
    "        // Create a 2D array of type Object\n",
    "        Object[][] mixedArray = new Object[3][3];  // 3x3 array\n",
    "\n",
    "        // Populate the array with different types of data using nested loops\n",
    "        for (int i = 0; i < mixedArray.length; i++) {\n",
    "            for (int j = 0; j < mixedArray[i].length; j++) {\n",
    "                // Mix different types of data\n",
    "                if (i == 0) {\n",
    "                    mixedArray[i][j] = i + j; // Integers\n",
    "                } else if (i == 1) {\n",
    "                    mixedArray[i][j] = (i + j) * 1.5; // Doubles\n",
    "                } else {\n",
    "                    mixedArray[i][j] = \"Value\" + (i + j); // Strings\n",
    "                }\n",
    "            }\n",
    "        }\n",
    "\n",
    "        // Print the mixed 2D array\n",
    "        for (int i = 0; i < mixedArray.length; i++) {\n",
    "            for (int j = 0; j < mixedArray[i].length; j++) {\n",
    "                System.out.print(mixedArray[i][j] + \" \");\n",
    "            }\n",
    "            System.out.println();\n",
    "        }\n",
    "    }\n",
    "}\n"
   ]
  }
 ],
 "metadata": {
  "kernelspec": {
   "display_name": "Java",
   "language": "java",
   "name": "java"
  },
  "language_info": {
   "codemirror_mode": "java",
   "file_extension": ".jshell",
   "mimetype": "text/x-java-source",
   "name": "Java",
   "pygments_lexer": "java",
   "version": "17.0.12+7-Ubuntu-1ubuntu222.04"
  },
  "orig_nbformat": 4
 },
 "nbformat": 4,
 "nbformat_minor": 2
}
