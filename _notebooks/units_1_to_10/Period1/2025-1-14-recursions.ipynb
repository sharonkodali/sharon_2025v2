{
 "cells": [
  {
   "cell_type": "markdown",
   "metadata": {},
   "source": [
    "---\n",
    "layout: post\n",
    "toc: true\n",
    "title: Recursions hw\n",
    "description: Recursions hw\n",
    "authors: Sharon Kodali\n",
    "categories: [AP CSA]\n",
    "type: ccc\n",
    "permalink: /recursionshw\n",
    "menu: nav/CSA_Units/csa_unit8_p1.html\n",
    "---"
   ]
  },
  {
   "cell_type": "markdown",
   "metadata": {},
   "source": [
    "Part A: Count Ways to Climb Stairs\n",
    "Write a recursive method countWays that calculates the total number of ways the person can climb a staircase with n steps."
   ]
  },
  {
   "cell_type": "code",
   "execution_count": 5,
   "metadata": {
    "vscode": {
     "languageId": "java"
    }
   },
   "outputs": [
    {
     "data": {
      "text/plain": [
       "5"
      ]
     },
     "execution_count": 5,
     "metadata": {},
     "output_type": "execute_result"
    }
   ],
   "source": [
    "public int countWays(int n) {\n",
    "    // Base case #1: If there are no stairs to climb, then there are no ways to climb them\n",
    "    if (n < 0) {\n",
    "        return 0;\n",
    "    }\n",
    "    // Base case #2: If there is only step, then there is only one way to climb the stairs\n",
    "    if (n == 0) {\n",
    "        return 1;\n",
    "    }\n",
    "    // Recursive call for when we decide to take 1 or 2 steps\n",
    "    return countWays(n - 1) + countWays(n - 2);\n",
    "}\n",
    "\n",
    "countWays(4); //Should return 5"
   ]
  },
  {
   "cell_type": "markdown",
   "metadata": {},
   "source": [
    "# Part B\n",
    "\n",
    "1. Initial Call\n",
    "    - countWays(3) → countWays(3-1) + countWays(3-2)\n",
    "- Next Call\n",
    "    - countWays(2) → countWays(2-1) + countWays(2-2)\n",
    "- Base Case\n",
    "    - countWays(1) → countWays(0) + countWays(-1)\n",
    "    - Since n == 0 and n < 0, return 0 + 1\n",
    "- Unwinding Stack: countWays(1) → 0 + 1 = 1 countWays(2) → 1 + 1 = 2 countWays(3) → 2 + 1 = 3"
   ]
  },
  {
   "cell_type": "markdown",
   "metadata": {},
   "source": [
    "# Part C"
   ]
  },
  {
   "cell_type": "code",
   "execution_count": 6,
   "metadata": {
    "vscode": {
     "languageId": "java"
    }
   },
   "outputs": [
    {
     "data": {
      "text/plain": [
       "5"
      ]
     },
     "execution_count": 6,
     "metadata": {},
     "output_type": "execute_result"
    }
   ],
   "source": [
    "public int countWaysVariableSteps(int n, int[] steps) {\n",
    "    // Base case - if n == 0, you stay at the ground (return 1)\n",
    "    if (n == 0) {\n",
    "        return 1;\n",
    "    }\n",
    "    // Base case - if n < 0, there are no valid ways (return 0)\n",
    "    if (n < 0) {\n",
    "        return 0;\n",
    "    }\n",
    "    // Initialize total count of ways\n",
    "    int totalWays = 0;\n",
    "\n",
    "    // Loop through each allowed step size\n",
    "    for (int step : steps) {\n",
    "        totalWays += countWaysVariableSteps(n - step, steps);\n",
    "    }\n",
    "    \n",
    "    // Return the total number of ways\n",
    "    return totalWays;\n",
    "}\n",
    "\n",
    "int[] steps = {1, 3, 5};\n",
    "countWaysVariableSteps(5, steps) // returns 5"
   ]
  },
  {
   "cell_type": "markdown",
   "metadata": {},
   "source": [
    "# Multiple Choice \n",
    " 1. The answer is D function keeps multiplying 12 for each resursve step \n",
    " 2. The output is A because the function alternats the case of each character from upercaase to lowercase and lowercasse to uppercase, and skisps thorough the non alphabetic characters \n",
    " 3. The correct answer is B, since this answer ensures that the recusrion terminates and avoids infinte calls "
   ]
  }
 ],
 "metadata": {
  "kernelspec": {
   "display_name": "java (IJava/j!)",
   "language": "java",
   "name": "jbang-ijava"
  },
  "language_info": {
   "codemirror_mode": "java",
   "file_extension": ".jshell",
   "mimetype": "text/x-java-source",
   "name": "Java",
   "pygments_lexer": "java",
   "version": "17.0.11+7-LTS-207"
  },
  "orig_nbformat": 4
 },
 "nbformat": 4,
 "nbformat_minor": 2
}
