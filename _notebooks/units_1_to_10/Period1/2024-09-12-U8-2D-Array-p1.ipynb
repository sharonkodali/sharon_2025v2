{
 "cells": [
  {
   "cell_type": "raw",
   "metadata": {
    "vscode": {
     "languageId": "raw"
    }
   },
   "source": [
    "---\n",
    "layout: post\n",
    "toc: true\n",
    "title: Unit 8 - 2D Arrays P1\n",
    "description: 2D Arrays Lesson\n",
    "categories: [AP CSA]\n",
    "courses: { csa: {week: 5} }\n",
    "type: ccc\n",
    "permalink: /unit8lesson\n",
    "author: Matthew Wang, Vibha Ganji, Avanthika Daita, Anusha Khobare\n",
    "---"
   ]
  },
  {
   "cell_type": "markdown",
   "metadata": {},
   "source": [
    "## Learning Objectives\n",
    "\n",
    "The objective of this lesson is to...\n",
    "\n",
    "- Learn about 2D arrays, their use cases, and how to create them.\n",
    "\n",
    "## Essential Knowledge\n",
    "\n",
    "College Board wants you to know...\n",
    "\n",
    "- How to declare/initialize 2D arrays.\n",
    "- How to determine their size.\n",
    "- How to access and update the values of a 2D array.\n",
    "- How to traverse/access elements of a 2D array using nested iteration statements. \n",
    "- How nested iteration statements can be used to traverse 2D arrays in “row-major order” vs “column-major order.”\n",
    "- How to create algorithms that require the use of 2D array traversals."
   ]
  },
  {
   "cell_type": "markdown",
   "metadata": {},
   "source": [
    "## Warm Up\n",
    "\n",
    "Answer the following questions as a group or individually. Write down your answers in your hacks notebook.\n",
    "\n",
    "- What are 2D arrays?\n",
    "\n",
    "2D Arrays are arrays with an extra dimension. They are data structures in Java.\n",
    "\n",
    "- How are 2D arrays organized?\n",
    "\n",
    "2D arrays are organized into rows and columns in a matrix format. There are two indices, one for rows and one for columns.\n",
    "\n",
    "- What are some real-world examples of 2D arrays?\n",
    "\n",
    "Some real-world examples of 2D arrays can be spreadsheets or maybe image processing."
   ]
  },
  {
   "cell_type": "markdown",
   "metadata": {},
   "source": [
    "## The Basics/Recap\n",
    "\n",
    "2D arrays, and higher dimension arrays overall, can be thought of as just an array that's made up of other arrays or an array of arrays. One way of looking at 2D arrays is by thinking of them as a chess board. They have rows and columns, and every element is identified via row or column number or index.\n",
    "\n",
    "Below is an illustration of a 2D array:\n",
    "![2D Array Image](https://raw.githubusercontent.com/The-Code-Monkeys/Monkeys38/main/images/2dArray.png)\n",
    "\n"
   ]
  },
  {
   "cell_type": "markdown",
   "metadata": {},
   "source": [
    "# Warmup (Review)\n",
    "- For the following three code cells categorize data + organization\n",
    "  - Data Bank: Homogenous Data, Heterogeneous Data, Type of Data, Heterogeneous Dimensions, Non-Square\n",
    "  - Note: Datatypes can be reused"
   ]
  },
  {
   "cell_type": "markdown",
   "metadata": {},
   "source": [
    "## How to declare/initialize 2D arrays\n",
    "1) Initializing and populating the array in one go:"
   ]
  },
  {
   "cell_type": "code",
   "execution_count": null,
   "metadata": {
    "vscode": {
     "languageId": "java"
    }
   },
   "outputs": [],
   "source": [
    "public class Main {\n",
    "    public static void main(String[] args) {\n",
    "        int[][] intArray = {  // 2D array of integers\n",
    "            {1, 2, 3},\n",
    "            {4, 5, 6},\n",
    "            {7, 8, 9}\n",
    "        };\n",
    "\n",
    "        // Loop through the array and print its elements\n",
    "        for (int i = 0; i < intArray.length; i++) {  // Iterate over rows\n",
    "            for (int j = 0; j < intArray[i].length; j++) {  // Iterate over columns\n",
    "                System.out.print(intArray[i][j] + \" \");  // Print each element\n",
    "            }\n",
    "            System.out.println();  // Move to the next line after each row\n",
    "        }\n",
    "    }\n",
    "}"
   ]
  },
  {
   "cell_type": "markdown",
   "metadata": {},
   "source": [
    "2) Creating an empty 2D array and assigning values individually (by indexes)"
   ]
  },
  {
   "cell_type": "code",
   "execution_count": null,
   "metadata": {
    "vscode": {
     "languageId": "java"
    }
   },
   "outputs": [],
   "source": [
    "public class Main {\n",
    "    public static void main(String[] args) {\n",
    "        String[][] stringArray = new String[2][3];  // 2D array with 2 rows and 3 columns\n",
    "\n",
    "        // Assign values to the array manually\n",
    "        stringArray[0][0] = \"Apple\";\n",
    "        stringArray[0][1] = \"Banana\";\n",
    "        stringArray[0][2] = \"Cherry\";\n",
    "        stringArray[1][0] = \"Date\";\n",
    "        stringArray[1][1] = \"Elderberry\";\n",
    "        stringArray[1][2] = \"Fig\";\n",
    "\n",
    "        // Loop through and print the array's elements\n",
    "        for (int i = 0; i < stringArray.length; i++) {  // Iterate over rows\n",
    "            for (int j = 0; j < stringArray[i].length; j++) {  // Iterate over columns\n",
    "                System.out.print(stringArray[i][j] + \" \");  // Print each element\n",
    "            }\n",
    "            System.out.println();  // New line after each row\n",
    "        }\n",
    "    }\n",
    "}\n"
   ]
  },
  {
   "cell_type": "markdown",
   "metadata": {},
   "source": [
    "3) Using a nested loop to populate the array dynamically:"
   ]
  },
  {
   "cell_type": "code",
   "execution_count": null,
   "metadata": {
    "vscode": {
     "languageId": "java"
    }
   },
   "outputs": [],
   "source": [
    "public class Main {\n",
    "    public static void main(String[] args) {\n",
    "        int rows = 4;\n",
    "        int columns = 2;\n",
    "        double[][] doubleArray = new double[rows][columns];  // 2D array of doubles (4 rows, 2 columns)\n",
    "\n",
    "        // Nested loop to populate the array with computed values\n",
    "        for (int i = 0; i < rows; i++) {\n",
    "            for (int j = 0; j < columns; j++) {\n",
    "                doubleArray[i][j] = i * 0.5 + j * 0.1;  // Example formula for dynamic values\n",
    "            }\n",
    "        }\n",
    "\n",
    "        // Loop through and print the array\n",
    "        for (int i = 0; i < doubleArray.length; i++) {\n",
    "            for (int j = 0; j < doubleArray[i].length; j++) {\n",
    "                System.out.print(doubleArray[i][j] + \" \");\n",
    "            }\n",
    "            System.out.println();  // New line after each row\n",
    "        }\n",
    "    }\n",
    "}\n"
   ]
  },
  {
   "cell_type": "markdown",
   "metadata": {},
   "source": [
    "### Popcorn Hack: Create a Mixed Data (Object) 2D array using nested for-loops "
   ]
  },
  {
   "cell_type": "markdown",
   "metadata": {},
   "source": [
    "## Accessing and updating the values of a 2D array\n",
    "In Java, accessing and updating values in a 2D array is done using the row and column indices. The general format is:\n",
    "\n",
    "- **Accessing a valu**e: array[row][column]\n",
    "- **Updating a value**: array[row][column] = newValue;\n",
    "\n",
    "![image](https://github.com/user-attachments/assets/b1f79b97-f81b-4ea5-951d-5c098fae0767)"
   ]
  },
  {
   "cell_type": "code",
   "execution_count": null,
   "metadata": {
    "vscode": {
     "languageId": "java"
    }
   },
   "outputs": [],
   "source": [
    "public class Main {\n",
    "    public static void main(String[] args) {\n",
    "        // Initialize a 2D array\n",
    "        int[][] array = {\n",
    "            {10, 20, 30},\n",
    "            {40, 50, 60},\n",
    "            {70, 80, 90}\n",
    "        };\n",
    "\n",
    "        // Accessing a value\n",
    "        int value = array[1][2];  // Accessing the element at row 1, column 2\n",
    "        System.out.println(\"Value at [1][2] before update: \" + value);\n",
    "\n",
    "        // Updating a value\n",
    "        array[1][2] = 100;  // Updating the value at row 1, column 2\n",
    "        System.out.println(\"Updated value at [1][2]: \" + array[1][2]);\n",
    "\n",
    "        // Print the entire updated array\n",
    "        System.out.println(\"Updated 2D Array:\");\n",
    "        for (int i = 0; i < array.length; i++) {\n",
    "            for (int j = 0; j < array[i].length; j++) {\n",
    "                System.out.print(array[i][j] + \" \");\n",
    "            }\n",
    "            System.out.println();  // New line after each row\n",
    "        }\n",
    "    }\n",
    "}\n"
   ]
  },
  {
   "cell_type": "markdown",
   "metadata": {},
   "source": [
    "### Popcorn Hack: Print all the values on this 2D Array and update the last value to be 12."
   ]
  },
  {
   "cell_type": "code",
   "execution_count": null,
   "metadata": {
    "vscode": {
     "languageId": "java"
    }
   },
   "outputs": [
    {
     "ename": "",
     "evalue": "",
     "output_type": "error",
     "traceback": [
      "\u001b[1;31mFailed to start the Kernel. \n",
      "\u001b[1;31mError: could not open `KERNEL_INSTALL_DIRECTORY@/ijava-1.3.0.jar'. \n",
      "\u001b[1;31mView Jupyter <a href='command:jupyter.viewOutput'>log</a> for further details."
     ]
    }
   ],
   "source": [
    "public class Main {\n",
    "    public static void main(String[] args) {\n",
    "        int[][] myArray = {\n",
    "            {1, 2, 3},\n",
    "            {4, 5, 6},\n",
    "            {7, 8, 9}\n",
    "        };\n",
    "        int value = 12;\n",
    "        myArray[2][2] = value;\n",
    "        for(int i = 0; i < myArray.length; i++) {\n",
    "            for (int j = 0; j < myArray[i].length; j++) {\n",
    "                System.out.print(myArray[i][j] + \" \");\n",
    "            }\n",
    "            System.out.println();\n",
    "        }\n",
    "    }\n",
    "}\n",
    "\n",
    "Main.main(null)"
   ]
  },
  {
   "cell_type": "markdown",
   "metadata": {},
   "source": [
    "## 3) Traversing 2D Arrays\n",
    "- When traversing through, or looping through 1D arrays, we only need to use one loop to access every element in the array.\n",
    "- This is different in 2D arrays, where we need to use a loop inside of a loop, otherwise known as a **for loop**\n",
    "- Java for loop structure review:\n",
    "```java\n",
    "for(first execution; condition; executed after every loop) {\n",
    "    //Action\n",
    "}\n",
    "\n",
    "\n",
    "ex.\n",
    "for(i = 0; i < 5; i++) {\n",
    "    System.out.println(i);\n",
    "}\n",
    "\n",
    "\n",
    "Prints out\n",
    "0\n",
    "1\n",
    "2\n",
    "3\n",
    "4\n",
    "```\n",
    "(Remember base 0)\n",
    "\n",
    "\n",
    "- How can we use these to traverse through 1D arrays?\n",
    "\n",
    "\n",
    "Lets say we have an array, Array1...\n",
    "\n",
    "\n",
    "```java\n",
    "// Set variable i to 0, while i is less than the length of Array1, print the value of Array1[i], add 1 to i\n",
    "int[] Array1 = {1, 2, 3};\n",
    "for(int i = 0; i < Array1.length; i++){\n",
    "    System.out.println(myArray[i]);\n",
    "}\n",
    "```\n",
    "\n",
    "\n",
    "- What about 2D arrays?\n",
    "```java\n",
    "// Create an array of integers with 2 rows, 3 columns\n",
    "int[][] Array1 = {\n",
    "    {1,2,3},\n",
    "    {4,5,6}\n",
    "};\n",
    "// Set variable i to 0, while i is less than the length of Array1, proceed to the next for loop, add 1 to i\n",
    "for(int i = 0; i < Array1.length; i++){\n",
    "// Set variable i1 to 0, while i is less than the length of the array within Array1 at Array1[i], print the value of Array1[i][i1], add 1 to i1\n",
    "    for(int i1 = 0; i1 < Array1[i].length; i1++){\n",
    "        System.out.println(Array1[i][i1]);\n",
    "    }\n",
    "}\n",
    "```\n",
    "\n",
    "\n",
    "### Put in simpler terms?\n",
    "\n",
    "\n",
    "For every row, loop through the row x number of times, x being the length of the array, print each individual value.\n",
    "So this code, without the loops, would be:\n",
    "```java\n",
    "System.out.println(Array1[0][0])\n",
    "System.out.println(Array1[0][1])\n",
    "System.out.println(Array1[0][2])\n",
    "// Keeping in mind base 0 system, and that Array1 has 3 columns for each row\n",
    "// Move on to the next row\n",
    "System.out.println(Array1[1][0])\n",
    "System.out.println(Array1[1][1])\n",
    "System.out.println(Array1[1][2])\n",
    "// Again, keeping in mind that Array1 has 2 rows, and base 0 system, so \"1st row\" is actually 2nd put in plain english\n",
    "```\n",
    "\n"
   ]
  },
  {
   "cell_type": "markdown",
   "metadata": {},
   "source": [
    "## Lets try!\n"
   ]
  },
  {
   "cell_type": "code",
   "execution_count": 1,
   "metadata": {
    "vscode": {
     "languageId": "java"
    }
   },
   "outputs": [
    {
     "name": "stdout",
     "output_type": "stream",
     "text": [
      "Row 1, or 0\n",
      "1\n",
      "2\n",
      "3\n",
      "Row 2, or 1\n",
      "4\n",
      "5\n",
      "6\n"
     ]
    }
   ],
   "source": [
    "public class Main {\n",
    "    public static void main(String[] args) {\n",
    "        int[][] Array1 = {\n",
    "            {1,2,3},\n",
    "            {4,5,6}\n",
    "        };\n",
    "        // Set variable i to 0, while i is less than the length of Array1, proceed to the next for loop, add 1 to i\n",
    "        for(int i = 0; i < Array1.length; i++){\n",
    "        System.out.println(\"Row \" + (i+1) + \", or \" + i);\n",
    "        // Set variable i1 to 0, while i is less than the length of the array within Array1 at Array1[i], print the value of Array1[i][i1], add 1 to i1\n",
    "            for(int i1 = 0; i1 < Array1[i].length; i1++){\n",
    "                System.out.println(Array1[i][i1]);\n",
    "            }\n",
    "        }\n",
    "    }\n",
    "}\n",
    "\n",
    "\n",
    "Main.main(null)\n"
   ]
  },
  {
   "cell_type": "markdown",
   "metadata": {},
   "source": [
    "## Popcorn Hack\n",
    "\n",
    "\n",
    "Let's say you have an array Numbers[][] defined as:\n",
    "```java\n",
    "int Numbers[][] = {\n",
    "    {1,2,3},\n",
    "    {4,5,6},\n",
    "    {7,8,9},\n",
    "};\n",
    "```\n",
    "Loop through it until you reached a certain number of your choice, then print the value and position\n"
   ]
  },
  {
   "cell_type": "code",
   "execution_count": 2,
   "metadata": {
    "vscode": {
     "languageId": "java"
    }
   },
   "outputs": [],
   "source": [
    "public class Main {\n",
    "    public static void main(String[] args) {\n",
    "        int[][] Numbers = {\n",
    "            {1,2,3},\n",
    "            {4,5,6},\n",
    "            {7,8,9}\n",
    "        };\n",
    "    \n",
    "        // Write code here\n",
    "\n",
    "    }\n",
    "}\n",
    "\n",
    "\n",
    "Main.main(null)\n"
   ]
  },
  {
   "cell_type": "markdown",
   "metadata": {},
   "source": [
    "Example output:\n",
    "9 is at row 3 column 3\n",
    "\n",
    "\n",
    "\n",
    "\n"
   ]
  },
  {
   "cell_type": "markdown",
   "metadata": {},
   "source": [
    "# What if you want to go column-first?\n",
    "\n",
    "## Introducing: Column Major Order, as an alternative to Row Major Order\n",
    "\n",
    "\n",
    "Put simply, all you have to do is reverse the order of the loops, and keep the insides intact, and use the length of a row for the number of times to loop instead of the length of a column.\n",
    "\n",
    "\n",
    "Why/how does this work?\n",
    "\n",
    "\n",
    "Now instead of looping once for every row by taking the number of elements in the array, which defines how many rows there, we instead loop once for every element in each element in the array, (ex. an array with an element {1, 2, 3} would loop 3 times) which defines how many columns there are. Then, we print out the value from the chosen column, represented by i1, and then increment the row value, i, to finish out the rest of the column. Then, i1, the column value, is incremented, and the value repeats. We reverse the order of the loops so that the **column** is **prioritized**, and make the changes accordingly.\n",
    "\n"
   ]
  },
  {
   "cell_type": "code",
   "execution_count": 3,
   "metadata": {
    "vscode": {
     "languageId": "java"
    }
   },
   "outputs": [
    {
     "name": "stdout",
     "output_type": "stream",
     "text": [
      "Column 1\n",
      "1\n",
      "4\n",
      "Column 2\n",
      "2\n",
      "5\n",
      "Column 3\n",
      "3\n",
      "6\n"
     ]
    }
   ],
   "source": [
    "public class Main {\n",
    "    public static void main(String[] args) {\n",
    "        int[][] Array1 = {\n",
    "            {1,2,3},\n",
    "            {4,5,6}\n",
    "        };\n",
    "        // Set variable i to 0, while i is less than the length of Array1, proceed to the next for loop, add 1 to i\n",
    "        for(int i1 = 0; i1 < Array1[0].length; i1++){\n",
    "            System.out.println(\"Column \" + (i1+1));\n",
    "            for(int i = 0; i < Array1.length; i++){\n",
    "                System.out.println(Array1[i][i1]);\n",
    "            }\n",
    "        }\n",
    "    }\n",
    "}\n",
    "\n",
    "\n",
    "Main.main(null)"
   ]
  },
  {
   "cell_type": "markdown",
   "metadata": {},
   "source": [
    "# Algoirthms 2D Array Java"
   ]
  },
  {
   "cell_type": "markdown",
   "metadata": {},
   "source": [
    "Linear search is a simple and sequential searching algorithm. It is used to find whether a particular element is present in the array or not by traversing every element in the array. While searching in the 2D array is exactly the same but here all the cells need to be traversed In this way, any element is searched in a 2D array. \n",
    "\n",
    "Below is the implementation for linear search in 2D arrays"
   ]
  },
  {
   "cell_type": "code",
   "execution_count": 4,
   "metadata": {
    "vscode": {
     "languageId": "java"
    }
   },
   "outputs": [
    {
     "name": "stdout",
     "output_type": "stream",
     "text": [
      "Element found at index: [1, 2]\n"
     ]
    }
   ],
   "source": [
    "// Linear Search in 2D arrays\n",
    "import java.util.Arrays;\n",
    " \n",
    "public class GFG {\n",
    "    public static void main(String[] args)\n",
    "    {\n",
    "        int arr[][] = { { 3, 12, 9 },\n",
    "                        { 5, 2, 89 },\n",
    "                        { 90, 45, 22 } };\n",
    "        int target = 89;\n",
    "        int ans[] = linearSearch(arr, target);\n",
    "        System.out.println(\"Element found at index: \"\n",
    "                           + Arrays.toString(ans));\n",
    "    }\n",
    " \n",
    "    static int[] linearSearch(int[][] arr, int target)\n",
    "    {\n",
    "        for (int i = 0; i < arr.length; i++) {\n",
    "            for (int j = 0; j < arr[i].length; j++) {\n",
    "                if (arr[i][j] == target) {\n",
    "                    return new int[] { i, j };\n",
    "                }\n",
    "            }\n",
    "        }\n",
    "        return new int[] { -1, -1 };\n",
    "    }\n",
    "}\n",
    "GFG.main(null);"
   ]
  },
  {
   "cell_type": "markdown",
   "metadata": {},
   "source": [
    "Summary:\n",
    "Linear Search involves iterating through all elements in the matrix.\n",
    "Binary Search is applicable when the matrix is sorted.\n",
    "Binary Search treats the 2D matrix as a 1D array by converting the indices.\n",
    "These searching algorithms are fundamental and widely used. Practice applying them to different scenarios to solidify your understanding. Additionally, consider exploring more advanced searching techniques for 2D arrays as you become more proficient."
   ]
  },
  {
   "cell_type": "code",
   "execution_count": 5,
   "metadata": {
    "vscode": {
     "languageId": "java"
    }
   },
   "outputs": [],
   "source": [
    "public class Main {\n",
    "    public static int[] binarySearch(int[][] matrix, int target) {\n",
    "        int rows = matrix.length;\n",
    "        int cols = matrix[0].length;\n",
    "        int left = 0;\n",
    "        int right = rows * cols - 1;\n",
    "\n",
    "        while (left <= right) {\n",
    "            int mid = left + (right - left) / 2;\n",
    "            int midValue = matrix[mid / cols][mid % cols];\n",
    "\n",
    "            if (midValue == target) {\n",
    "                return new int[] {mid / cols, mid % cols};\n",
    "            }\n",
    "\n",
    "            if (midValue < target) {\n",
    "                left = mid + 1;\n",
    "            } else {\n",
    "                right = mid - 1;\n",
    "            }\n",
    "        }\n",
    "\n",
    "        return new int[] {-1, -1}; // Target not found\n",
    "    }\n",
    "}"
   ]
  },
  {
   "cell_type": "markdown",
   "metadata": {},
   "source": [
    "### Binary Search in a 2D Array: \n",
    "\n",
    "Binary search is an efficient method of searching in an array. Binary search works on a sorted array. At each iteration the search space is divided in half, this is the reason why binary search is more efficient than linear search"
   ]
  },
  {
   "cell_type": "code",
   "execution_count": 18,
   "metadata": {
    "vscode": {
     "languageId": "java"
    }
   },
   "outputs": [
    {
     "name": "stdout",
     "output_type": "stream",
     "text": [
      "Element found at index: [2, 3]\n"
     ]
    }
   ],
   "source": [
    "// Binary Search on sorted 2D array\n",
    "import java.util.Arrays;\n",
    " \n",
    "class GFG {\n",
    " \n",
    "    static int[] findAns(int[][] arr, int target)\n",
    "    {\n",
    "        int row = 0;\n",
    "        int col = arr[row].length - 1;\n",
    "        while (row < arr.length && col >= 0) {\n",
    "            if (arr[row][col] == target) {\n",
    "                return new int[] { row, col };\n",
    "            }\n",
    " \n",
    "            // Target lies in further row\n",
    "            if (arr[row][col] < target) {\n",
    "                row++;\n",
    "            }\n",
    "            // Target lies in previous column\n",
    "            else {\n",
    "                col--;\n",
    "            }\n",
    "        }\n",
    "        return new int[] { -1, -1 };\n",
    "    }\n",
    " \n",
    "    // Driver Code\n",
    "    public static void main(String[] args)\n",
    "    {\n",
    " \n",
    "        // Binary search in sorted matrix\n",
    "        int arr[][] = { { 1, 2, 3, 4 },\n",
    "                        { 5, 6, 7, 8 },\n",
    "                        { 9, 10, 11, 12 } };\n",
    "        int[] ans = findAns(arr, 12);\n",
    "        System.out.println(\"Element found at index: \"\n",
    "                           + Arrays.toString(ans));\n",
    "    }\n",
    "}\n",
    "GFG.main(null);"
   ]
  },
  {
   "cell_type": "markdown",
   "metadata": {},
   "source": [
    "## Popcorn Hack - EXTRA!\n",
    "Create a program that implements binary search on 2D Arrays."
   ]
  },
  {
   "cell_type": "code",
   "execution_count": 43,
   "metadata": {
    "vscode": {
     "languageId": "java"
    }
   },
   "outputs": [
    {
     "name": "stdout",
     "output_type": "stream",
     "text": [
      "10 13 2 \n",
      "3 12 18 \n",
      "17 4 19 \n",
      "\n",
      "The number 17 was found at index [2, 0]\n"
     ]
    }
   ],
   "source": [
    "import java.util.Random;  \n",
    "import java.util.Arrays;  \n",
    "\n",
    "public class BinarySearch {\n",
    "    public static void main(String[] args) {\n",
    "        int[][] array = new int [3][3];\n",
    "        Random rand = new Random();\n",
    "\n",
    "        for (int i = 0; i < array.length; i++) {\n",
    "            for (int j = 0; j < array[i].length; j++) {\n",
    "                array[i][j] = rand.nextInt(20+1);\n",
    "                System.out.print(array[i][j] + \" \");\n",
    "            }\n",
    "            System.out.println();\n",
    "        }\n",
    "        System.out.println();\n",
    "        int target = rand.nextInt(20+1);\n",
    "        int[] answer = binarySearchAlgorithm(array, target);\n",
    "\n",
    "        if (Arrays.equals(answer, new int[] {-1, -1})) {\n",
    "            System.out.println(\"The number \" + target + \" was not found in the 2D Array\");\n",
    "        } else {\n",
    "            System.out.println(\"The number \" + target + \" was found at index \" + Arrays.toString(answer));\n",
    "        }\n",
    "    }\n",
    "    public static int[] binarySearchAlgorithm(int[][] arr, int target) {\n",
    "        int rows = arr.length;\n",
    "        int columns = arr[0].length;\n",
    "        int left = 0;\n",
    "        int right = rows * columns - 1;\n",
    "        if(rows == 0) {\n",
    "            return new int[] {-1, -1};\n",
    "        }\n",
    "\n",
    "        while(left <= right) {\n",
    "            int mid = left + (right - left) / 2;\n",
    "            int midvalue = arr[mid / columns][mid % columns];\n",
    "\n",
    "            if (midvalue == target) {\n",
    "                return new int[] {mid / columns, mid % columns};\n",
    "            } else if (midvalue < target) {\n",
    "                left = mid + 1;\n",
    "            } else {\n",
    "                right = mid - 1;\n",
    "            }\n",
    "        }\n",
    "        return new int[] {-1, -1};\n",
    "    }   \n",
    "}\n",
    "BinarySearch.main(null);"
   ]
  },
  {
   "cell_type": "markdown",
   "metadata": {},
   "source": [
    "# Enhanced For-Each Loop for 2D Arrays \n",
    "Since 2D arrays are really arrays of arrays you can also use a nested enhanced for-each loop to loop through all elements in an array. We loop through each of the inner arrays and loop through all the values in each inner array. Notice the type of the outer loop array variable – it is an array that will hold each row, String[] in the example below for a 2D String array. The type of the variables in the for-each loops must match the type of the array. For-each loops are much simpler since you don’t have to use the indices and the []’s, but you can only use them if you are not going to change the values in an array of primitive types since the variable val below will not change the original array.\n",
    "\n"
   ]
  },
  {
   "cell_type": "code",
   "execution_count": null,
   "metadata": {
    "vscode": {
     "languageId": "java"
    }
   },
   "outputs": [],
   "source": [
    "String[][] array;\n",
    "// Nested For-each loops that traverse a 2D String array\n",
    "for (String[] innerArray : array)\n",
    "{\n",
    "   for (String val : innerArray)\n",
    "   {\n",
    "       System.out.println(val);\n",
    "   }\n",
    "}"
   ]
  },
  {
   "cell_type": "code",
   "execution_count": 2,
   "metadata": {
    "vscode": {
     "languageId": "java"
    }
   },
   "outputs": [
    {
     "name": "stdout",
     "output_type": "stream",
     "text": [
      "69.16666666666667\n"
     ]
    }
   ],
   "source": [
    "public class Average\n",
    "{\n",
    "\n",
    "    public static double getAvg(int[][] a)\n",
    "    {\n",
    "        double total = 0;\n",
    "        for (int[] innerArray : a)\n",
    "        {\n",
    "            for (int val : innerArray)\n",
    "            {\n",
    "                total = total + val;\n",
    "            }\n",
    "        }\n",
    "        return total / (a.length * a[0].length);\n",
    "    }\n",
    "\n",
    "    public static void main(String[] args)\n",
    "    {\n",
    "        int[][] theArray = { {80, 90, 70}, {20, 80, 75}};\n",
    "        System.out.println(getAvg(theArray));\n",
    "    }\n",
    "}\n",
    "\n",
    "Average.main(null);"
   ]
  },
  {
   "cell_type": "markdown",
   "metadata": {},
   "source": [
    "# 4) How to create an algorithm that involves traversing a 2D Array\n",
    "\n",
    "During the APCSA AP exam, we will be required to write an algorithm for a 2D array that solves a problem discussed in the prompt. Collegeboard will give you a situation, and you will have to write an algorithm based on said situation. \n",
    "\n",
    "Here's an example of an algorithm that was needed for the real Collegeboard APCSA exam in 2022:"
   ]
  },
  {
   "cell_type": "markdown",
   "metadata": {},
   "source": [
    "For this problem, the question asked for the student to write the `countIncreasingCols` method, which returns the number of columns in `grid` that are in increasing order. `grid` is a 2D array with randomly populated numbers."
   ]
  },
  {
   "cell_type": "code",
   "execution_count": null,
   "metadata": {
    "vscode": {
     "languageId": "java"
    }
   },
   "outputs": [],
   "source": [
    "public int countIncreaseCols() {\n",
    "    int count = 0;\n",
    "    for (int j = 0; j < grid[0].length; j++) { // Iterates through columns\n",
    "        boolean isIncreasing = true; \n",
    "        if (grid[0].length > 1) { // Checks if there is more than one column to prevent out of bounds error\n",
    "            for (int i = 1; i < grid.length; i++) {  // Iterates through rows\n",
    "                if (grid[i][j] <= grid[i - 1][j]) { // Checks if the current element is less than or equal to the previous element\n",
    "                    isIncreasing = false; // If so set isIncreasing to false and break out of loop\n",
    "                    break; \n",
    "                }\n",
    "            }\n",
    "    \n",
    "            if (isIncreasing) { // If the column is increasing increment count as if \n",
    "                count++;        // the value is not less than or equal to the previous \n",
    "                                // element then it must be increasing \n",
    "            }\n",
    "        }\n",
    "        \n",
    "        else if (grid[0].length == 1) { // To match the criteria of a single column being increasing\n",
    "            count++;\n",
    "        }\n",
    "        \n",
    "        else { // If there are no columns then break out of loop\n",
    "            break;\n",
    "        }\n",
    "    }\n",
    "    return count; \n",
    "}"
   ]
  },
  {
   "cell_type": "markdown",
   "metadata": {},
   "source": [
    "# Hacks:"
   ]
  },
  {
   "cell_type": "markdown",
   "metadata": {},
   "source": [
    "### 1) \n",
    "Initialize a 5 x 5 2D array that is populated by random values."
   ]
  },
  {
   "cell_type": "code",
   "execution_count": 45,
   "metadata": {
    "vscode": {
     "languageId": "java"
    }
   },
   "outputs": [
    {
     "name": "stdout",
     "output_type": "stream",
     "text": [
      "60 96 57 24 41 \n",
      "66 78 43 34 19 \n",
      "93 3 44 15 14 \n",
      "37 83 22 67 84 \n",
      "79 100 96 1 90 \n"
     ]
    }
   ],
   "source": [
    "// Add the code here:\n",
    "\n",
    "public class random2DA {\n",
    "    public static void main(String[] args) {\n",
    "        int[][] array = new int[5][5];\n",
    "        Random rand = new Random();\n",
    "\n",
    "        for(int i = 0; i < array.length; i++) {\n",
    "            for (int j = 0; j < array[i].length; j++) {\n",
    "                array[i][j] = rand.nextInt(101);\n",
    "                System.out.print(array[i][j] + \" \");\n",
    "            }\n",
    "            System.out.println();\n",
    "        }\n",
    "    }\n",
    "}\n",
    "random2DA.main(null);"
   ]
  },
  {
   "cell_type": "markdown",
   "metadata": {},
   "source": [
    "### 2)\n",
    "- a) Print the values 47, 51, and 20 by accessing them in the the given two-dimensional array.\n",
    "- b) Find the values from part a) using row major and column major order and print the values in each respective order."
   ]
  },
  {
   "cell_type": "code",
   "execution_count": 49,
   "metadata": {
    "vscode": {
     "languageId": "java"
    }
   },
   "outputs": [
    {
     "name": "stdout",
     "output_type": "stream",
     "text": [
      "Row Major order:\n",
      "47 51 20 \n",
      "Column Major order:\n",
      "47 51 20 "
     ]
    }
   ],
   "source": [
    "public class Problem2\n",
    "{\n",
    "    public static void main(String[] args)\n",
    "    {\n",
    "        int[][] arr = { {47,3,12},{51,74,20} };\n",
    "\n",
    "        System.out.println(\"Row Major order:\");\n",
    "        for (int i = 0; i < arr.length; i++) {\n",
    "            for (int j = 0; j < arr[i].length; j++) {\n",
    "                if (arr[i][j] == 47 || arr[i][j] == 51 || arr[i][j] == 20) {\n",
    "                    System.out.print(arr[i][j] + \" \");\n",
    "                }\n",
    "            }\n",
    "        }\n",
    "        System.out.println(\"\\nColumn Major order:\");\n",
    "        for (int j = 0; j < arr[0].length; j++) {\n",
    "            for (int i = 0; i < arr.length; i++) {\n",
    "                if (arr[i][j] == 47 || arr[i][j] == 51 || arr[i][j] == 20) {\n",
    "                    System.out.print(arr[i][j] + \" \");\n",
    "                }\n",
    "            }\n",
    "        }\n",
    "    }\n",
    "}\n",
    "Problem2.main(null);"
   ]
  },
  {
   "cell_type": "markdown",
   "metadata": {},
   "source": [
    "### 3) \n",
    "The following 2d array `myArray` is populated with integers 1-9. Write an algorithm thath sorts the 2D array by column and returnst the values of the array in increaing order.\n",
    "\n",
    "The expected output is:\n",
    "`1 4 7`<br>\n",
    "`2 5 8`<br>\n",
    "`3 6 9`<br>\n",
    "\n"
   ]
  },
  {
   "cell_type": "code",
   "execution_count": 54,
   "metadata": {
    "vscode": {
     "languageId": "java"
    }
   },
   "outputs": [
    {
     "name": "stdout",
     "output_type": "stream",
     "text": [
      "1 4 7 \n",
      "2 5 8 \n",
      "3 6 9 \n"
     ]
    }
   ],
   "source": [
    "public class Problem3 {\n",
    "    public static void main(String[] args) { \n",
    "        int[][] myArray = { // 2d array of integers\n",
    "            {1, 2, 3},\n",
    "            {4, 5, 6},\n",
    "            {7, 8, 9}\n",
    "        };\n",
    "        int numrows = myArray.length;\n",
    "        int numcols = myArray[0].length;\n",
    "\n",
    "        for (int j = 0; j < numcols; j++) {\n",
    "            for (int i = 0; i < numrows; i++) {\n",
    "                System.out.print(myArray[i][j] + \" \");\n",
    "            }\n",
    "            System.out.println();\n",
    "        }\n",
    "    }\n",
    "}\n",
    "Problem3.main(null);"
   ]
  },
  {
   "cell_type": "markdown",
   "metadata": {},
   "source": [
    "### 4) \n",
    "Replace the “ADD CODE HERE” below with the code to declare and create a 3 by 3 two-dimensional int array named table. The finished code will print the values 0 to 8."
   ]
  },
  {
   "cell_type": "code",
   "execution_count": 60,
   "metadata": {
    "vscode": {
     "languageId": "java"
    }
   },
   "outputs": [
    {
     "name": "stdout",
     "output_type": "stream",
     "text": [
      "0 1 2 \n",
      "3 4 5 \n",
      "6 7 8 \n"
     ]
    }
   ],
   "source": [
    "public class Test1\n",
    "{\n",
    "\n",
    "    public static void main(String[] args)\n",
    "    {\n",
    "        // ADD CODE HERE //\n",
    "        int[][] table = new int[3][3];\n",
    "\n",
    "        // Should print the values in table\n",
    "        int count = 0;\n",
    "        for (int row = 0; row < table.length; row++)\n",
    "        {\n",
    "            for (int col = 0; col < table.length; col++)\n",
    "            {\n",
    "                table[row][col] = count;\n",
    "                count++;\n",
    "                System.out.print(table[row][col] + \" \");\n",
    "            }\n",
    "            System.out.println();\n",
    "        }\n",
    "    }\n",
    "}\n",
    "Test1.main(null);"
   ]
  },
  {
   "cell_type": "markdown",
   "metadata": {},
   "source": [
    "### 5)\n",
    "Replace the “ADD CODE HERE” below with the code to declare and initialize a two-dimensional String array called students with the names “Brice, Marvin, Anna” in the first row and “Kamal, Maria, Elissa” in the second. The finished code will print all the names in the array starting with all in the first row followed by all in the second row."
   ]
  },
  {
   "cell_type": "code",
   "execution_count": 65,
   "metadata": {
    "vscode": {
     "languageId": "java"
    }
   },
   "outputs": [
    {
     "name": "stdout",
     "output_type": "stream",
     "text": [
      "Brice Marvin Anna \n",
      "Kamal Maria Elissa \n"
     ]
    }
   ],
   "source": [
    "public class Test1\n",
    "{\n",
    "    public static void main(String[] args)\n",
    "    {\n",
    "        // ADD CODE HERE //\n",
    "        String[][] students =  {\n",
    "            {\"Brice\", \"Marvin\", \"Anna\"},\n",
    "            {\"Kamal\", \"Maria\", \"Elissa\"}\n",
    "        };\n",
    "\n",
    "        // Should print the values in students in order\n",
    "        for (int row = 0; row < students.length; row++)\n",
    "        {\n",
    "            for (int col = 0; col < students[0].length; col++)\n",
    "            {\n",
    "                System.out.print(students[row][col] + \" \");\n",
    "            }\n",
    "            System.out.println();\n",
    "        }\n",
    "    }\n",
    "}\n",
    "Test1.main(null);"
   ]
  }
 ],
 "metadata": {
  "kernelspec": {
   "display_name": "Java",
   "language": "java",
   "name": "java"
  },
  "language_info": {
   "codemirror_mode": "java",
   "file_extension": ".jshell",
   "mimetype": "text/x-java-source",
   "name": "Java",
   "pygments_lexer": "java",
   "version": "17.0.12+7-Ubuntu-1ubuntu222.04"
  },
  "orig_nbformat": 4
 },
 "nbformat": 4,
 "nbformat_minor": 2
}
