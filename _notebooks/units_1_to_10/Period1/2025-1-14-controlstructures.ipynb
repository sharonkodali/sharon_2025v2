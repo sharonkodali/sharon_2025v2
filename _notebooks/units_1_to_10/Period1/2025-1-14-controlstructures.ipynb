{
 "cells": [
  {
   "cell_type": "markdown",
   "metadata": {},
   "source": [
    "---\n",
    "layout: post\n",
    "toc: true\n",
    "title: Control Structures hw\n",
    "description: Control STRUCTURES \n",
    "authors: Sharon Kodali\n",
    "categories: [AP CSA]\n",
    "type: ccc\n",
    "permalink: /controlstructureshw\n",
    "menu: nav/CSA_Units/csa_unit8_p1.html\n",
    "---"
   ]
  },
  {
   "cell_type": "markdown",
   "metadata": {},
   "source": [
    "# first attempt ( I made comments of corrections)"
   ]
  },
  {
   "cell_type": "code",
   "execution_count": 1,
   "metadata": {
    "vscode": {
     "languageId": "java"
    }
   },
   "outputs": [],
   "source": [
    "// Part (a)\n",
    "public int getScore() {\n",
    "    int score = 0;\n",
    "\n",
    "    if (!levelOne.goalReached()) { // Incorrect condition\n",
    "        score = levelOne.getPoints(); // Points assigned even if the goal isn't reached\n",
    "    }\n",
    "\n",
    "    if (levelTwo.goalReached()) {\n",
    "        score += levelTwo.getPoints();\n",
    "    }\n",
    "\n",
    "    if (levelThree.goalReached()) {\n",
    "        score =+ levelThree.getPoints(); // Incorrect operator (=+ instead of +=)\n",
    "    }\n",
    "\n",
    "    if (isBonus()) {\n",
    "        score += 3; // Incorrect bonus calculation (should multiply)\n",
    "    }\n",
    "\n",
    "    return score;\n",
    "}\n",
    "\n",
    "// Part (b)\n",
    "public int playManyTimes(int num) {\n",
    "    int max = 0;\n",
    "\n",
    "    for (int i = 1; i <= num; i++) { // Incorrect loop bounds (starts at 1 and includes num)\n",
    "        play();\n",
    "        int score = getScore();\n",
    "        if (score >= max) { // Allows equality, should only check for greater\n",
    "            max == score; // Incorrect assignment (== instead of =)\n",
    "        }\n",
    "    }\n",
    "\n",
    "    return num; // Incorrect return value (should return max)\n",
    "}\n"
   ]
  },
  {
   "cell_type": "markdown",
   "metadata": {},
   "source": [
    "\n",
    "\n",
    "### Explanation of Errors:\n",
    "1. **Part (a):**\n",
    "   - **Incorrect condition for `levelOne.goalReached()`:** The condition `!levelOne.goalReached()` checks the opposite of the intended logic, leading to points being assigned incorrectly.\n",
    "   - **Incorrect operator in `score =+ levelThree.getPoints();`:** The `=+` operator is a typo and does not increment the score as intended.\n",
    "   - **Bonus calculation:** The bonus incorrectly adds `3` instead of multiplying the score by `3`.\n",
    "\n",
    "2. **Part (b):**\n",
    "   - **Incorrect loop bounds:** The loop starts at `1` and includes `num`, causing an extra iteration.\n",
    "   - **Incorrect condition in `if (score >= max)`:** Allows equality, which is unnecessary for updating `max`.\n",
    "   - **Incorrect assignment:** `max == score` uses the equality operator (`==`) instead of the assignment operator (`=`).\n",
    "   - **Incorrect return value:** Returns `num` instead of `max`, making the method useless."
   ]
  },
  {
   "cell_type": "markdown",
   "metadata": {},
   "source": [
    "## Corrected version with comments "
   ]
  },
  {
   "cell_type": "code",
   "execution_count": null,
   "metadata": {
    "vscode": {
     "languageId": "java"
    }
   },
   "outputs": [],
   "source": [
    "// Part (a)\n",
    "public int getScore() {\n",
    "    int score = 0; // Initialize the score to 0\n",
    "\n",
    "    // Check if level one goal is reached\n",
    "    if (levelOne.goalReached()) {\n",
    "        score = levelOne.getPoints(); // Add points from level one\n",
    "\n",
    "        // Check if level two goal is reached\n",
    "        if (levelTwo.goalReached()) {\n",
    "            score += levelTwo.getPoints(); // Add points from level two\n",
    "\n",
    "            // Check if level three goal is reached\n",
    "            if (levelThree.goalReached()) {\n",
    "                score += levelThree.getPoints(); // Add points from level three\n",
    "            }\n",
    "        }\n",
    "    }\n",
    "\n",
    "    // Apply bonus multiplier if the bonus condition is met\n",
    "    if (isBonus()) {\n",
    "        score *= 3; // Multiply the score by 3\n",
    "    }\n",
    "\n",
    "    return score; // Return the final score\n",
    "}\n",
    "\n",
    "// Part (b)\n",
    "public int playManyTimes(int num) {\n",
    "    int max = 0; // Initialize the maximum score to 0\n",
    "\n",
    "    // Loop through the number of plays\n",
    "    for (int i = 0; i < num; i++) { // Start from 0 and iterate num times\n",
    "        play(); // Play the game\n",
    "        int score = getScore(); // Get the score for the current play\n",
    "\n",
    "        // Update max if the current score is greater than max\n",
    "        if (score > max) {\n",
    "            max = score; // Assign the new maximum score\n",
    "        }\n",
    "    }\n",
    "\n",
    "    return max; // Return the highest score achieved\n",
    "}\n"
   ]
  }
 ],
 "metadata": {
  "kernelspec": {
   "display_name": "java (IJava/j!)",
   "language": "java",
   "name": "jbang-ijava"
  },
  "language_info": {
   "codemirror_mode": "java",
   "file_extension": ".jshell",
   "mimetype": "text/x-java-source",
   "name": "Java",
   "pygments_lexer": "java",
   "version": "17.0.11+7-LTS-207"
  }
 },
 "nbformat": 4,
 "nbformat_minor": 2
}
