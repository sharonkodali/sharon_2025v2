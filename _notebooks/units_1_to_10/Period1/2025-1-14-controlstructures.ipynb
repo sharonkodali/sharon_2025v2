{
 "cells": [
  {
   "cell_type": "markdown",
   "metadata": {},
   "source": [
    "---\n",
    "layout: post\n",
    "toc: true\n",
    "title: Control Structures\n",
    "description: Control STRUCTURES \n",
    "authors: Sharon Kodali\n",
    "categories: [AP CSA]\n",
    "type: ccc\n",
    "permalink: /controlstructureshw\n",
    "menu: nav/CSA_Units/csa_unit8_p1.html\n",
    "---"
   ]
  },
  {
   "cell_type": "code",
   "execution_count": 1,
   "metadata": {
    "vscode": {
     "languageId": "java"
    }
   },
   "outputs": [],
   "source": [
    "// Method to calculate the total score\n",
    "public int getScore() {\n",
    "    int score = 0; // Initialize the score to 0\n",
    "    // Check if level one goal is reached\n",
    "    if (levelOne.goalReached()) {\n",
    "        score = levelOne.getPoints(); // Add level one points to the score\n",
    "        // Check if level two goal is reached\n",
    "        if (levelTwo.goalReached()) {\n",
    "            score += levelTwo.getPoints(); // Add level two points to the score\n",
    "            // Check if level three goal is reached\n",
    "            if (levelThree.goalReached()) {\n",
    "                score += levelThree.getPoints(); // Add level three points to the score\n",
    "            }\n",
    "        }\n",
    "    }\n",
    "    // Check if bonus conditions are met\n",
    "    if (isBonus()) {\n",
    "        score *= 3; // Triple the score if bonus conditions are met\n",
    "    }\n",
    "\n",
    "    return score; // Return the calculated score\n",
    "}\n",
    "\n",
    "// Method to play the game multiple times and return the highest score\n",
    "public int playManyTimes(int num) {\n",
    "    int max = 0; // Initialize the maximum score to 0\n",
    "    // Loop through the number of times the game is played\n",
    "    for (int i = 0; i < num; i++) {\n",
    "        play(); // Play the game once\n",
    "        int score = getScore(); // Get the score for this playthrough\n",
    "        // Check if the current score is greater than the maximum score\n",
    "        if (score > max) {\n",
    "            max = score; // Update the maximum score\n",
    "        }\n",
    "    }\n",
    "    return max; // Return the highest score obtained\n",
    "}"
   ]
  }
 ],
 "metadata": {
  "kernelspec": {
   "display_name": "Java",
   "language": "java",
   "name": "java"
  },
  "language_info": {
   "codemirror_mode": "java",
   "file_extension": ".jshell",
   "mimetype": "text/x-java-source",
   "name": "Java",
   "pygments_lexer": "java",
   "version": "21.0.5+11-Ubuntu-1ubuntu124.04"
  }
 },
 "nbformat": 4,
 "nbformat_minor": 2
}
