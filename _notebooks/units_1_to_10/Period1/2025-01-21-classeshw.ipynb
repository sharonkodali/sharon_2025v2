{
 "cells": [
  {
   "cell_type": "markdown",
   "metadata": {},
   "source": [
    "---\n",
    "layout: post\n",
    "toc: true\n",
    "title: Classes HW\n",
    "description: Classes HW\n",
    "authors: Sharon Kodali\n",
    "categories: [AP CSA]\n",
    "type: ccc\n",
    "permalink: /classeshw\n",
    "menu: nav/CSA_Units/csa_unit8_p1.html\n",
    "---"
   ]
  },
  {
   "cell_type": "code",
   "execution_count": null,
   "metadata": {
    "vscode": {
     "languageId": "java"
    }
   },
   "outputs": [],
   "source": [
    "public class CombinedTable {\n",
    "    private SingleTable table1;\n",
    "    private SingleTable table2;\n",
    "\n",
    "    public CombinedTable(SingleTable tab1, SingleTable tab2) {\n",
    "        table1 = tab1;\n",
    "        table2 = tab2;\n",
    "    }\n",
    "\n",
    "    public boolean canSeat(int n) {\n",
    "        if (table1.getNumSeats() + table2.getNumSeats() - 1 >= n) { // Incorrect subtraction value\n",
    "            return false; // Incorrect return value\n",
    "        } else {\n",
    "            return true; // Flipped logic\n",
    "        }\n",
    "    }\n",
    "\n",
    "    public double getDesirability() {\n",
    "        if (table1.getHeight() != table2.getHeight()) { // Flipped condition\n",
    "            return (table1.getViewQuality() + table2.getViewQuality()) / 2; // Should reduce desirability\n",
    "        } else {\n",
    "            return ((table1.getViewQuality() + table2.getViewQuality()) / 2) - 5; // Incorrect penalty value\n",
    "        }\n",
    "    }\n",
    "}"
   ]
  },
  {
   "cell_type": "markdown",
   "metadata": {},
   "source": [
    "# corrections\n",
    "\n",
    "### Explanation of Errors:\n",
    "\n",
    "1. **`canSeat` Method:**\n",
    "   - **Incorrect subtraction:** The subtraction value is `-1` instead of `-2`, which alters the seating capacity calculation and makes the logic invalid for certain cases.\n",
    "   - **Flipped return logic:** The method incorrectly returns `false` when the seating condition is met and `true` otherwise, reversing the intended behavior.\n",
    "\n",
    "2. **`getDesirability` Method:**\n",
    "   - **Flipped condition:** The condition uses `!=` (not equal) instead of `==`, which reverses the logic for handling tables with equal heights.\n",
    "   - **Incorrect penalty:** The penalty for mismatched heights is `-5` instead of `-10`, reducing the impact on the desirability calculation.\n",
    "   - **No penalty for mismatched heights:** When the table heights are not equal, the desirability is averaged without any reduction, which is inconsistent with the intended logic."
   ]
  },
  {
   "cell_type": "code",
   "execution_count": null,
   "metadata": {
    "vscode": {
     "languageId": "java"
    }
   },
   "outputs": [],
   "source": [
    "public class CombinedTable {\n",
    "    private SingleTable table1;\n",
    "    private SingleTable table2;\n",
    "\n",
    "    // Constructor to initialize the two tables\n",
    "    public CombinedTable(SingleTable tab1, SingleTable tab2) {\n",
    "        table1 = tab1;\n",
    "        table2 = tab2;\n",
    "    }\n",
    "\n",
    "    // Method to check if the combined table can seat at least 'n' people\n",
    "    public boolean canSeat(int n) {\n",
    "        // Calculate total seating capacity by summing the seats of both tables\n",
    "        // and subtracting 2 for the shared space\n",
    "        if (table1.getNumSeats() + table2.getNumSeats() - 2 >= n) {\n",
    "            return true; // Enough seats\n",
    "        } else {\n",
    "            return false; // Not enough seats\n",
    "        }\n",
    "    }\n",
    "\n",
    "    // Method to calculate the desirability of the combined table\n",
    "    public double getDesirability() {\n",
    "        // Check if the heights of the two tables are equal\n",
    "        if (table1.getHeight() == table2.getHeight()) {\n",
    "            // If heights are equal, return the average view quality\n",
    "            return (table1.getViewQuality() + table2.getViewQuality()) / 2;\n",
    "        } else {\n",
    "            // If heights are not equal, reduce desirability by 10\n",
    "            return ((table1.getViewQuality() + table2.getViewQuality()) / 2) - 10;\n",
    "        }\n",
    "    }\n",
    "}\n"
   ]
  }
 ],
 "metadata": {
  "language_info": {
   "name": "python"
  },
  "orig_nbformat": 4
 },
 "nbformat": 4,
 "nbformat_minor": 2
}
