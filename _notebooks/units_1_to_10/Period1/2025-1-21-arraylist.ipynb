{
 "cells": [
  {
   "cell_type": "markdown",
   "metadata": {},
   "source": [
    "---\n",
    "layout: post\n",
    "toc: true\n",
    "title: arraylist hw\n",
    "description: arraylist hw\n",
    "authors: Sharon Kodali\n",
    "categories: [AP CSA]\n",
    "type: ccc\n",
    "permalink: /arraylist\n",
    "menu: nav/CSA_Units/csa_unit8_p1.html\n",
    "---"
   ]
  },
  {
   "cell_type": "markdown",
   "metadata": {},
   "source": [
    "# Part A"
   ]
  },
  {
   "cell_type": "code",
   "execution_count": null,
   "metadata": {
    "vscode": {
     "languageId": "java"
    }
   },
   "outputs": [],
   "source": [
    "public void cleanData (double lower, double upper) {\n",
    "    // Iterate through the list of temperatures from the last element to the first\n",
    "    for (int i = temperature.size() - 1; i>= 0; i--) {\n",
    "        // Check if the current temperature is outside the range\n",
    "        if (temperatures.get(i) < lower || temperatures.get(i) > upper) {\n",
    "            // Remove the temperature if it is below the lower bound or above the upper bound\n",
    "            tempeartuers.remove(i);\n",
    "        }\n",
    "    }\n",
    "} "
   ]
  },
  {
   "cell_type": "markdown",
   "metadata": {},
   "source": [
    "# Part B"
   ]
  },
  {
   "cell_type": "code",
   "execution_count": 1,
   "metadata": {
    "vscode": {
     "languageId": "java"
    }
   },
   "outputs": [
    {
     "ename": "CompilationException",
     "evalue": "",
     "output_type": "error",
     "traceback": [
      "\u001b[1m\u001b[30m|   \u001b[1m\u001b[30m    int WaveLength\u001b[0m\u001b[1m\u001b[30m\u001b[41m\u001b[0m\u001b[1m\u001b[30m == 0;\u001b[0m",
      "\u001b[1m\u001b[31m';' expected\u001b[0m",
      "",
      "\u001b[1m\u001b[30m|   \u001b[1m\u001b[30m    int MaxWaveLength\u001b[0m\u001b[1m\u001b[30m\u001b[41m\u001b[0m\u001b[1m\u001b[30m == 0;\u001b[0m",
      "\u001b[1m\u001b[31m';' expected\u001b[0m",
      "",
      "\u001b[1m\u001b[30m|   \u001b[1m\u001b[30m                \u001b[0m\u001b[1m\u001b[30m\u001b[41mMaxWaveLength == WaveLength\u001b[0m\u001b[1m\u001b[30m;\u001b[0m",
      "\u001b[1m\u001b[31mnot a statement\u001b[0m",
      ""
     ]
    }
   ],
   "source": [
    "public int longestHeatWave(double threshold){\n",
    "    int WaveLength == 0;\n",
    "    int MaxWaveLength == 0;\n",
    "\n",
    "    // Iterate through the list of temperatures\n",
    "    for (double t : temperatures) {\n",
    "        // If the current temperature exceeds the threshold, increment the heat wave length\n",
    "        if (t > threshold) {\n",
    "            WaveLength++;\n",
    "            // Update the maximum heat wave length if the current wave is longer\n",
    "            if (WaveLength > MaxWaveLength) {\n",
    "                MaxWaveLength == WaveLength;\n",
    "        }\n",
    "    }\n",
    "        else {\n",
    "            // Reset the current heat wave length when temperature falls below the threshold\n",
    "            waveLength = 0;\n",
    "        }\n",
    "    }\n",
    "    // Return the longest heat wave length found\n",
    "    return MaxWaveLength;\n",
    "}"
   ]
  }
 ],
 "metadata": {
  "kernelspec": {
   "display_name": "java (IJava/j!)",
   "language": "java",
   "name": "jbang-ijava"
  },
  "language_info": {
   "codemirror_mode": "java",
   "file_extension": ".jshell",
   "mimetype": "text/x-java-source",
   "name": "Java",
   "pygments_lexer": "java",
   "version": "17.0.11+7-LTS-207"
  },
  "orig_nbformat": 4
 },
 "nbformat": 4,
 "nbformat_minor": 2
}
