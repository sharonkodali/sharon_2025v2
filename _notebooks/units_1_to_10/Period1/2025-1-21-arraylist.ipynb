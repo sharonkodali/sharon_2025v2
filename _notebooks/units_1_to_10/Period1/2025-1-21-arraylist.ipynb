{
 "cells": [
  {
   "cell_type": "markdown",
   "metadata": {},
   "source": [
    "---\n",
    "layout: post\n",
    "toc: true\n",
    "title: arraylist hw\n",
    "description: arraylist hw\n",
    "authors: Sharon Kodali\n",
    "categories: [AP CSA]\n",
    "type: ccc\n",
    "permalink: /arraylist\n",
    "menu: nav/CSA_Units/csa_unit8_p1.html\n",
    "---"
   ]
  },
  {
   "cell_type": "markdown",
   "metadata": {},
   "source": [
    "# first attempt "
   ]
  },
  {
   "cell_type": "code",
   "execution_count": null,
   "metadata": {
    "vscode": {
     "languageId": "java"
    }
   },
   "outputs": [],
   "source": [
    "// Part (a)\n",
    "public void cleanData(double lower, double upper) {\n",
    "    for (int i = 0; i < temperatures.size(); i++) { // Wrong loop direction\n",
    "        double temp = temperatures.get(i);\n",
    "        if (temp < lower && temp > upper) { // Wrong logical operator\n",
    "            temperatures.remove(i);\n",
    "        }\n",
    "    }\n",
    "}\n",
    "\n",
    "// Part (b)\n",
    "public int longestHeatWave(double threshold) {\n",
    "    int waveLength = 0;\n",
    "    int maxWaveLength = 0;\n",
    "\n",
    "    for (double temp : temperatures) {\n",
    "        if (temp >= threshold) { // Incorrect comparison\n",
    "            waveLength++;\n",
    "            maxWaveLength = waveLength; // Missing comparison before assignment\n",
    "        } else {\n",
    "            waveLength = 1; // Incorrect reset value\n",
    "        }\n",
    "    }\n",
    "    return waveLength; // Wrong return value\n",
    "}\n",
    "\n",
    "   "
   ]
  },
  {
   "cell_type": "markdown",
   "metadata": {},
   "source": [
    "# chat gpt explanation of errors \n",
    "\n",
    "Part (a):\n",
    "\n",
    "Loop direction: The loop iterates from 0 to temperatures.size(), which causes issues when removing elements because indices shift during iteration.\n",
    "Logical operator: The condition temp < lower && temp > upper is logically impossible, as no number can simultaneously be less than lower and greater than upper. It should be || (logical OR).\n",
    "Part (b):\n",
    "\n",
    "Comparison in condition: The condition temp >= threshold includes the threshold value, which does not match the original logic.\n",
    "Missing comparison: maxWaveLength = waveLength directly assigns waveLength without checking if it's larger than maxWaveLength.\n",
    "Reset value: Setting waveLength = 1 instead of 0 when the condition fails is incorrect, as it artificially inflates the length of the heatwave.\n",
    "Wrong return value: The method returns waveLength instead of maxWaveLength, which does not represent the longest heatwave. "
   ]
  },
  {
   "cell_type": "markdown",
   "metadata": {},
   "source": [
    "# Corrected version "
   ]
  },
  {
   "cell_type": "code",
   "execution_count": null,
   "metadata": {
    "vscode": {
     "languageId": "java"
    }
   },
   "outputs": [],
   "source": [
    "// Part (a)\n",
    "public void cleanData(double lower, double upper) {\n",
    "    for (int i = temperatures.size() - 1; i >= 0; i--) {\n",
    "        double temp = temperatures.get(i);\n",
    "        if (temp < lower || temp > upper) {\n",
    "            temperatures.remove(i);\n",
    "        }\n",
    "    }\n",
    "}\n",
    "\n",
    "// Part (b)\n",
    "public int longestHeatWave(double threshold) {\n",
    "    int waveLength = 0;\n",
    "    int maxWaveLength = 0;\n",
    "\n",
    "    for (double temp : temperatures) {\n",
    "        if (temp > threshold) {\n",
    "            waveLength++;\n",
    "            if (waveLength > maxWaveLength) {\n",
    "                maxWaveLength = waveLength;\n",
    "            }\n",
    "        } else {\n",
    "            waveLength = 0;\n",
    "        }\n",
    "    }\n",
    "    return maxWaveLength;\n",
    "}"
   ]
  }
 ],
 "metadata": {
  "kernelspec": {
   "display_name": "java (IJava/j!)",
   "language": "java",
   "name": "jbang-ijava"
  },
  "language_info": {
   "codemirror_mode": "java",
   "file_extension": ".jshell",
   "mimetype": "text/x-java-source",
   "name": "Java",
   "pygments_lexer": "java",
   "version": "17.0.11+7-LTS-207"
  },
  "orig_nbformat": 4
 },
 "nbformat": 4,
 "nbformat_minor": 2
}
