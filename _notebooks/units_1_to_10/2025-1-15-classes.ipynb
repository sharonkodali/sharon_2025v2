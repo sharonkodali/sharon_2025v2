{
 "cells": [
  {
   "cell_type": "markdown",
   "metadata": {},
   "source": [
    "---\n",
    "layout: post\n",
    "title: Classes\n",
    "categories: [Collaboration]\n",
    "courses: {csa: {week: 12} }\n",
    "type: collab\n",
    "comments: true\n",
    "---"
   ]
  },
  {
   "cell_type": "code",
   "execution_count": null,
   "metadata": {
    "vscode": {
     "languageId": "java"
    }
   },
   "outputs": [],
   "source": [
    "public class CombinedTable {\n",
    "    private SingleTable table1;\n",
    "    private SingleTable table2; \n",
    "    private int desirability; \n",
    "    public CombinedTable(SingleTable t1, SingleTable t2) {\n",
    "        this.t1 = t1;\n",
    "        this.t2 = t2; \n",
    "    }\n",
    "    public boolean canSeat(int n) {\n",
    "        if (t1.getNumSeats() + t2.getNumSeats() > n) {\n",
    "            return true; \n",
    "        } else {\n",
    "            return false; \n",
    "        }\n",
    "    }\n",
    "\n",
    "    public double getDesirability() {\n",
    "        if (t1.getHeight() == t2.getHeight()) {\n",
    "            desirability = (t1.getViewQuality() + t2.getViewQuality()) / 2;\n",
    "            return desirability; \n",
    "        } else {\n",
    "            desirability = ((t1.getViewQuality() + t2.getViewQuality()) / 2) - 10;\n",
    "            return desirability; \n",
    "        }\n",
    "    }\n",
    "}"
   ]
  }
 ],
 "metadata": {
  "language_info": {
   "name": "python"
  },
  "orig_nbformat": 4
 },
 "nbformat": 4,
 "nbformat_minor": 2
}
