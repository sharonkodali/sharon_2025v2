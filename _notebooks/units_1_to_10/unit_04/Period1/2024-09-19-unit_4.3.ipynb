{
 "cells": [
  {
   "cell_type": "markdown",
   "metadata": {},
   "source": [
    "---\n",
    "layout: post\n",
    "type: collab\n",
    "title: Unit 4.3 - String Iteration\n",
    "description: Unit 4 Team Teach\n",
    "comments: true\n",
    "permalink: /csa/unit4-p1/unit4-3\n",
    "menu: nav/CSA_Units/csa_unit4_p1.html\n",
    "author: hanlun, saaras, arthur, miheer, eshaan, beijan\n",
    "---"
   ]
  },
  {
   "cell_type": "markdown",
   "metadata": {},
   "source": [
    "## 4.3 String Iteration\n",
    "Methods of iterating through and interacting with strings"
   ]
  },
  {
   "cell_type": "code",
   "execution_count": null,
   "metadata": {},
   "outputs": [],
   "source": [
    "String word = \"sunflower\";\n",
    "String sub = \"low\";\n",
    "boolean found = false;\n",
    "for (int i = 0; i < word.length(); i++) {\n",
    "    String poirtion = word.substring(i, i+sub.length());\n",
    "    if (portion.equals(sub)){\n",
    "        found = true;\n",
    "    }\n",
    "}"
   ]
  },
  {
   "cell_type": "markdown",
   "metadata": {},
   "source": [
    "### What is a substring?\n",
    "- a substring is a subset of the main string\n",
    "- the substring(a,b) method creates a substring with the characters of the original string with indices of a to b.\n",
    "- string.length() returns the length of the string\n",
    "- string1.equals(string2) determines if the two strings have the same characters"
   ]
  },
  {
   "cell_type": "markdown",
   "metadata": {},
   "source": [
    "### Fun Stubstring Hack:\n",
    "Create a program that scrables any word that you put in, by reversing the first and last letters, then reversing the center letters. (example: sold becomes dlos, computer becomes retupmoc)"
   ]
  },
  {
   "cell_type": "code",
   "execution_count": 1,
   "metadata": {},
   "outputs": [],
   "source": [
    "import java.util.Scanner;\n",
    "\n",
    "public class WordScrambler {\n",
    "    public static String scrambleWord(String word) {\n",
    "        if (word.length() <= 1) {\n",
    "            return word; // No need to scramble\n",
    "        }\n",
    "\n",
    "        // Get the first and last letters\n",
    "        char firstLetter = word.charAt(0);\n",
    "        char lastLetter = word.charAt(word.length() - 1);\n",
    "\n",
    "        // Get the center letters and reverse them\n",
    "        String centerLetters = word.substring(1, word.length() - 1);\n",
    "        String reversedCenter = new StringBuilder(centerLetters).reverse().toString();\n",
    "\n",
    "        // Construct the scrambled word\n",
    "        return lastLetter + reversedCenter + firstLetter;\n",
    "    }\n",
    "\n",
    "    public static void main(String[] args) {\n",
    "        Scanner scanner = new Scanner(System.in);\n",
    "        System.out.print(\"Enter a word to scramble: \");\n",
    "        String wordToScramble = scanner.nextLine();\n",
    "        String scrambledWord = scrambleWord(wordToScramble);\n",
    "        System.out.println(\"Scrambled word: \" + scrambledWord);\n",
    "        scanner.close();\n",
    "    }\n",
    "}\n"
   ]
  }
 ],
 "metadata": {
  "kernelspec": {
   "display_name": "Java",
   "language": "java",
   "name": "java"
  },
  "language_info": {
   "codemirror_mode": "java",
   "file_extension": ".jshell",
   "mimetype": "text/x-java-source",
   "name": "java",
   "pygments_lexer": "java",
   "version": "17.0.11+7-LTS-207"
  }
 },
 "nbformat": 4,
 "nbformat_minor": 2
}
