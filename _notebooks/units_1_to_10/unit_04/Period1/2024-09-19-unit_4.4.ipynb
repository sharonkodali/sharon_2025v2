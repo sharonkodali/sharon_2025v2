{
 "cells": [
  {
   "cell_type": "markdown",
   "metadata": {},
   "source": [
    "---\n",
    "layout: post\n",
    "type: collab\n",
    "title: Unit 4.4 - Nested Iteration\n",
    "description: Unit 4 Team Teach\n",
    "comments: true\n",
    "permalink: /csa/unit4-p1/unit4-4\n",
    "menu: nav/CSA_Units/csa_unit4_p1.html\n",
    "author: hanlun, saaras, arthur, miheer, eshaan, beijan\n",
    "---"
   ]
  },
  {
   "cell_type": "markdown",
   "metadata": {},
   "source": [
    "## 4.4 Nested Iteration\n",
    "How to iterate through something to get a time complexity of O(n^2)"
   ]
  },
  {
   "cell_type": "code",
   "execution_count": null,
   "metadata": {},
   "outputs": [],
   "source": [
    "for (int i = 1; i <= 3; i++) { // Outer loop\n",
    "    System.out.println(\"Outer loop iteration: \" + i);\n",
    "    for (int j = 1; j <= 3; j++) { // Inner loop\n",
    "        System.out.println(\"    Inner loop iteration: \" + j);\n",
    "        }\n",
    "    }"
   ]
  },
  {
   "cell_type": "markdown",
   "metadata": {},
   "source": [
    "## What is wrong with this code cell(Hack)"
   ]
  },
  {
   "cell_type": "code",
   "execution_count": 2,
   "metadata": {},
   "outputs": [
    {
     "name": "stdout",
     "output_type": "stream",
     "text": [
      "Enter the number of rows: 1 2 3 4 5 \n",
      "1 2 3 4 \n",
      "1 2 3 \n",
      "1 2 \n"
     ]
    }
   ],
   "source": [
    "import java.util.Scanner;\n",
    "Scanner scanner = new Scanner(System.in);\n",
    "System.out.print(\"Enter the number of rows: \");\n",
    "int rows = scanner.nextInt();\n",
    "for (int i = rows; i>1; i--) {\n",
    "    for (int j = 1; j <= i; j++) {\n",
    "        System.out.print(j + \" \");\n",
    "    }\n",
    "    System.out.println();\n",
    "    }\n",
    "        \n",
    "scanner.close();\n",
    "    \n",
    "\n"
   ]
  },
  {
   "cell_type": "markdown",
   "metadata": {},
   "source": [
    "Sample input:\n",
    "5\n",
    "\n",
    "Sample Output\n",
    "1 2 3 4 5\n",
    "1 2 3 4\n",
    "1 2 3\n",
    "1 2\n",
    "1\n"
   ]
  },
  {
   "cell_type": "markdown",
   "metadata": {},
   "source": [
    "<img width=\"540\" alt=\"Screenshot 2024-09-19 at 20 45 04\" src=\"https://github.com/user-attachments/assets/ef76eea5-ffa1-432b-9ca0-95c1b9fd002d\">\n"
   ]
  },
  {
   "cell_type": "markdown",
   "metadata": {},
   "source": [
    "### Answer here:\n"
   ]
  },
  {
   "cell_type": "markdown",
   "metadata": {},
   "source": [
    "B is correct, 20 times, the first loop will repeat 5 times which repeats the second loop 4 times. 5 times 4 is 20"
   ]
  }
 ],
 "metadata": {
  "kernelspec": {
   "display_name": "Java",
   "language": "java",
   "name": "java"
  },
  "language_info": {
   "codemirror_mode": "java",
   "file_extension": ".jshell",
   "mimetype": "text/x-java-source",
   "name": "java",
   "pygments_lexer": "java",
   "version": "17.0.11+7-LTS-207"
  }
 },
 "nbformat": 4,
 "nbformat_minor": 2
}
