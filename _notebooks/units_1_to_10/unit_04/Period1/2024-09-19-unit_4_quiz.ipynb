{
 "cells": [
  {
   "cell_type": "markdown",
   "metadata": {},
   "source": [
    "---\n",
    "layout: post\n",
    "type: collab\n",
    "title: Unit 4 - Quiz\n",
    "description: Unit 4 Team Teach\n",
    "comments: true\n",
    "permalink: /csa/unit4-p1/unit4-quiz\n",
    "menu: nav/CSA_Units/csa_unit4_p1.html\n",
    "author: hanlun, saaras, arthur, miheer, eshaan, beijan\n",
    "---"
   ]
  },
  {
   "cell_type": "markdown",
   "metadata": {},
   "source": [
    "## Unit 4 - Iteration:\n",
    "- This assignement will be made of 3 multiple choice questions, and 2 coding hacks."
   ]
  },
  {
   "cell_type": "markdown",
   "metadata": {},
   "source": [
    "### Question 1:\n",
    "What does the following code print?\n",
    "A. 5 6 7 8 9\n",
    "B. 4 5 6 7 8 9 10 11 12\n",
    "C. 3 5 7 9 11\n",
    "D. 3 4 5 6 7 8 9 10 11 12\n",
    "Answer: D"
   ]
  },
  {
   "cell_type": "code",
   "execution_count": 1,
   "metadata": {},
   "outputs": [
    {
     "name": "stdout",
     "output_type": "stream",
     "text": [
      "3 4 5 6 7 8 9 10 11 12 "
     ]
    }
   ],
   "source": [
    "for (int i = 3; i <= 12; i++)\n",
    "{\n",
    "   System.out.print(i + \" \");\n",
    "}"
   ]
  },
  {
   "cell_type": "markdown",
   "metadata": {},
   "source": [
    "The code would print out option D. Since it starts at i=3, 3 is our starting point. Then the code would keep adding one until i is less than or equal to 12 which is shown in option D. "
   ]
  },
  {
   "cell_type": "markdown",
   "metadata": {},
   "source": [
    "### Question 2:\n",
    "How many times does the following method print a *?\n",
    "A. 9\n",
    "B. 7\n",
    "C. 6\n",
    "D. 10\n",
    "Answer: C"
   ]
  },
  {
   "cell_type": "code",
   "execution_count": null,
   "metadata": {},
   "outputs": [],
   "source": [
    "for (int i = 3; i < 9; i++)\n",
    "{\n",
    "   System.out.print(\"*\");\n",
    "}"
   ]
  },
  {
   "cell_type": "markdown",
   "metadata": {},
   "source": [
    "Answer: C\n",
    "- The method starts at 3 then keeps printing * until we get to 8 since it is the integer less than nine. Therefore it would print '*' out 6 times. "
   ]
  },
  {
   "cell_type": "markdown",
   "metadata": {},
   "source": [
    "### Question 3:\n",
    "What does the following code print?\n",
    "A. 5 4 3 2 1\n",
    "B. -5 -4 -3 -2 -1\n",
    "C. -4 -3 -2 -1 0\n",
    "Answer: C"
   ]
  },
  {
   "cell_type": "code",
   "execution_count": null,
   "metadata": {},
   "outputs": [],
   "source": [
    "int x = -5;\n",
    "while (x < 0)\n",
    "{\n",
    "   x++;\n",
    "   System.out.print(x + \" \");\n",
    "}"
   ]
  },
  {
   "cell_type": "markdown",
   "metadata": {},
   "source": [
    "the x++ adds one to the value of x each time until x<0. x starts at -5 and since we are adding one, the first output is -4. We keep adding until x=-1 which is when the output is 0. therefore the output would start at -4 and end at 0. "
   ]
  },
  {
   "cell_type": "markdown",
   "metadata": {},
   "source": [
    "## Loops homework hack\n",
    "### Easy Hack\n",
    "- use a while loop to find the numbers from 1-50 that are divisible by 3 or 5, then store them into a list (make sure to print it out at the end)\n",
    "- use a for loop to do the same thing detailed above\n",
    "\n"
   ]
  },
  {
   "cell_type": "code",
   "execution_count": 2,
   "metadata": {},
   "outputs": [
    {
     "name": "stdout",
     "output_type": "stream",
     "text": [
      "0\n",
      "3\n",
      "5\n",
      "6\n",
      "9\n",
      "10\n",
      "12\n",
      "15\n",
      "18\n",
      "20\n",
      "21\n",
      "24\n",
      "25\n",
      "27\n",
      "30\n",
      "33\n",
      "35\n",
      "36\n",
      "39\n",
      "40\n",
      "42\n",
      "45\n",
      "48\n",
      "50\n"
     ]
    }
   ],
   "source": [
    "int index = 0; // iterating value\n",
    "while (index <= 50) { // condition, if this is false, the loop terminates\n",
    "    if (index % 3 == 0 || index % 5 == 0) { // check if divisible by 3 or 5\n",
    "        System.out.println(index); // prints only if divisible by 3 or 5\n",
    "    }\n",
    "    index++; // iterates the iterating value\n",
    "}"
   ]
  },
  {
   "cell_type": "code",
   "execution_count": 3,
   "metadata": {},
   "outputs": [
    {
     "name": "stdout",
     "output_type": "stream",
     "text": [
      "0\n",
      "3\n",
      "5\n",
      "6\n",
      "9\n",
      "10\n",
      "12\n",
      "15\n",
      "18\n",
      "20\n",
      "21\n",
      "24\n",
      "25\n",
      "27\n",
      "30\n",
      "33\n",
      "35\n",
      "36\n",
      "39\n",
      "40\n",
      "42\n",
      "45\n",
      "48\n",
      "50\n"
     ]
    }
   ],
   "source": [
    "for (int index = 0; index <= 50; index++) { // iterating value\n",
    "    if (index % 3 == 0 || index % 5 == 0) { // check if divisible by 3 or 5\n",
    "        System.out.println(index); // prints only if divisible by 3 or 5\n",
    "    }\n",
    "}\n"
   ]
  },
  {
   "cell_type": "markdown",
   "metadata": {},
   "source": [
    "### Harder Hack\n",
    "#### Palindromes are numbers that have the same value when reversed (ex: “123321” or “323”). Create a program that uses a while loop that outputs all palindromes in any given list. \n",
    "\n",
    "Sample Input: \n",
    "test_list = [5672, 235, 5537, 6032, 317, 8460, 1672, 8104, 7770, 4442, 913, 2508, 1116, 9969, 9091, 522, 8756, 9527, 7968, 1520, 4444, 515, 2882, 6556, 595]\n",
    "\n",
    "Sample Output:\n",
    "4444, 515, 2882, 6556, 595"
   ]
  },
  {
   "cell_type": "code",
   "execution_count": 4,
   "metadata": {},
   "outputs": [
    {
     "name": "stdout",
     "output_type": "stream",
     "text": [
      "Palindromes: 4444, 515, 2882, 6556, 595\n"
     ]
    }
   ],
   "source": [
    "public class PalindromeFinder {\n",
    "    public static void main(String[] args) {\n",
    "        int[] testList = {5672, 235, 5537, 6032, 317, 8460, 1672, 8104, 7770, \n",
    "                          4442, 913, 2508, 1116, 9969, 9091, 522, 8756, \n",
    "                          9527, 7968, 1520, 4444, 515, 2882, 6556, 595};\n",
    "        int[] palindromes = new int[testList.length];\n",
    "        int count = 0; \n",
    "        int index = 0; \n",
    "\n",
    "        while (index < testList.length) {\n",
    "            if (isPalindrome(testList[index])) {\n",
    "                palindromes[count] = testList[index]; \n",
    "                count++; \n",
    "            }\n",
    "            index++; \n",
    "        }\n",
    "\n",
    "        System.out.print(\"Palindromes: \");\n",
    "        for (int j = 0; j < count; j++) {\n",
    "            System.out.print(palindromes[j]);\n",
    "            if (j < count - 1) {\n",
    "                System.out.print(\", \"); \n",
    "            }\n",
    "        }\n",
    "        System.out.println(); \n",
    "    }\n",
    "\n",
    "    public static boolean isPalindrome(int num) {\n",
    "        String numStr = String.valueOf(num); \n",
    "        int left = 0; \n",
    "        int right = numStr.length() - 1; \n",
    "\n",
    "        while (left < right) {\n",
    "            if (numStr.charAt(left) != numStr.charAt(right)) {\n",
    "                return false; \n",
    "            }\n",
    "            left++;\n",
    "            right--;\n",
    "        }\n",
    "        return true; \n",
    "    }\n",
    "}\n",
    "\n",
    "PalindromeFinder.main(new String[0]);"
   ]
  },
  {
   "cell_type": "markdown",
   "metadata": {},
   "source": [
    "## Coding Hack(For above 0.9):\n",
    "### Use a for loop to output a spiral matrix with size n\n",
    "For example:\n",
    "Sample Input: \n",
    "3\n",
    "\n",
    "Output: \n",
    "[[1, 2, 3], \n",
    "[8, 9, 4], \n",
    "[7, 6, 5]]\n"
   ]
  },
  {
   "cell_type": "code",
   "execution_count": 5,
   "metadata": {},
   "outputs": [
    {
     "name": "stdout",
     "output_type": "stream",
     "text": [
      "Output:\n",
      "1\t2\t3\t\n",
      "8\t9\t4\t\n",
      "7\t6\t5\t\n"
     ]
    }
   ],
   "source": [
    "public class SpiralMatrix {\n",
    "    public static void main(String[] args) {\n",
    "        int n = 3;\n",
    "        int[][] matrix = new int[n][n];\n",
    "\n",
    "        int top = 0;\n",
    "        int bottom = n - 1;\n",
    "        int left = 0;\n",
    "        int right = n - 1;\n",
    "        int num = 1;\n",
    "\n",
    "        while (top <= bottom && left <= right) {\n",
    "            for (int i = left; i <= right; i++) {\n",
    "                matrix[top][i] = num++;\n",
    "            }\n",
    "            top++;\n",
    "\n",
    "            for (int i = top; i <= bottom; i++) {\n",
    "                matrix[i][right] = num++;\n",
    "            }\n",
    "            right--;\n",
    "\n",
    "            if (top <= bottom) {\n",
    "                for (int i = right; i >= left; i--) {\n",
    "                    matrix[bottom][i] = num++;\n",
    "                }\n",
    "                bottom--;\n",
    "            }\n",
    "\n",
    "            if (left <= right) {\n",
    "                for (int i = bottom; i >= top; i--) {\n",
    "                    matrix[i][left] = num++;\n",
    "                }\n",
    "                left++;\n",
    "            }\n",
    "        }\n",
    "\n",
    "        System.out.println(\"Output:\");\n",
    "        for (int i = 0; i < n; i++) {\n",
    "            for (int j = 0; j < n; j++) {\n",
    "                System.out.print(matrix[i][j] + \"\\t\");\n",
    "            }\n",
    "            System.out.println();\n",
    "        }\n",
    "    }\n",
    "}\n",
    "\n",
    "SpiralMatrix.main(new String[0]);\n",
    "\n"
   ]
  }
 ],
 "metadata": {
  "kernelspec": {
   "display_name": "Java",
   "language": "java",
   "name": "java"
  },
  "language_info": {
   "codemirror_mode": "java",
   "file_extension": ".jshell",
   "mimetype": "text/x-java-source",
   "name": "java",
   "pygments_lexer": "java",
   "version": "17.0.11+7-LTS-207"
  }
 },
 "nbformat": 4,
 "nbformat_minor": 2
}
