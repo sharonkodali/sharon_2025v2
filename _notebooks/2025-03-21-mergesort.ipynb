{
 "cells": [
  {
   "cell_type": "markdown",
   "metadata": {},
   "source": [
    "---\n",
    "layout: post\n",
    "toc: true\n",
    "title: Merge Sort Team Teach\n",
    "description: Toolkit group \n",
    "authors: Sharon Kodali\n",
    "categories: [AP CSA]\n",
    "type: ccc\n",
    "---"
   ]
  },
  {
   "cell_type": "markdown",
   "metadata": {},
   "source": [
    "## Popcorn Hacks \n",
    "\n",
    "- Why do we divide the array into halves in Merge Sort?"
   ]
  },
  {
   "cell_type": "code",
   "execution_count": null,
   "metadata": {
    "vscode": {
     "languageId": "java"
    }
   },
   "outputs": [],
   "source": [
    "class MergeSort {\n",
    "    void merge(int arr[], int left, int mid, int right) {\n",
    "        int n1 = mid - left + 1;\n",
    "        int n2 = right - mid;\n",
    "\n",
    "        int L[] = new int[n1];\n",
    "        int R[] = new int[n2];\n",
    "\n",
    "        for (int i = 0; i < n1; i++)\n",
    "            L[i] = arr[left + i];\n",
    "        for (int j = 0; j < n2; j++)\n",
    "            R[j] = arr[mid + 1 + j];\n",
    "\n",
    "        int i = 0, j = 0, k = left;\n",
    "        while (i < n1 && j < n2) {\n",
    "            if (L[i] <= R[j]) {\n",
    "                arr[k] = L[i];\n",
    "                i++;\n",
    "            } else {\n",
    "                arr[k] = R[j];\n",
    "                j++;\n",
    "            }\n",
    "            k++;\n",
    "        }\n",
    "\n",
    "        while (i < n1) {\n",
    "            arr[k] = L[i];\n",
    "            i++;\n",
    "            k++;\n",
    "        }\n",
    "\n",
    "        while (j < n2) {\n",
    "            arr[k] = R[j];\n",
    "            j++;\n",
    "            k++;\n",
    "        }\n",
    "    }\n",
    "\n",
    "    void sort(int arr[], int left, int right) {\n",
    "        if (left < right) {\n",
    "            int mid = left + (right - left) / 2;\n",
    "\n",
    "            sort(arr, left, mid);\n",
    "            sort(arr, mid + 1, right);\n",
    "            merge(arr, left, mid, right);\n",
    "        }\n",
    "    }\n",
    "\n",
    "    static void printArray(int arr[]) {\n",
    "        for (int i : arr)\n",
    "            System.out.print(i + \" \");\n",
    "        System.out.println();\n",
    "    }\n",
    "\n",
    "    public static void main(String args[]) {\n",
    "        int arr[] = { 12, 11, 13, 5, 6, 7 };\n",
    "        MergeSort ob = new MergeSort();\n",
    "        ob.sort(arr, 0, arr.length - 1);\n",
    "        System.out.println(\"Sorted array:\");\n",
    "        printArray(arr);\n",
    "    }\n",
    "}"
   ]
  },
  {
   "cell_type": "markdown",
   "metadata": {},
   "source": [
    "## Popcorn hack modifications to this code \n",
    "- ask class to modify the code to sort the array in decesnding order \n",
    "- Ask students to count the number of comparisons happening in the merge() function and print the count.\n",
    "- Write a Java method that checks if a given array is already sorted before applying Merge Sort.\n"
   ]
  },
  {
   "cell_type": "markdown",
   "metadata": {},
   "source": [
    "## Conceptual Popcorn Hacks \n",
    "- Why does Merge Sort have O(n log n) complexity?\n",
    "- What happens if you don’t merge correctly?\n",
    "- How does Merge Sort handle duplicate elements?\n",
    "- Why does Merge Sort use extra space?\n",
    "- Can Merge Sort be implemented iteratively?"
   ]
  }
 ],
 "metadata": {
  "language_info": {
   "name": "python"
  },
  "orig_nbformat": 4
 },
 "nbformat": 4,
 "nbformat_minor": 2
}
